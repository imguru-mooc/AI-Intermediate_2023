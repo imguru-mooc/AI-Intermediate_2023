{
 "cells": [
  {
   "cell_type": "markdown",
   "id": "5a562a92",
   "metadata": {},
   "source": [
    "### 녹음을 위한 패키지 설치"
   ]
  },
  {
   "cell_type": "code",
   "execution_count": 5,
   "id": "2d902dd8",
   "metadata": {
    "scrolled": false
   },
   "outputs": [
    {
     "name": "stdout",
     "output_type": "stream",
     "text": [
      "Requirement already satisfied: sounddevice in c:\\users\\jikim\\miniconda3\\lib\\site-packages (0.4.6)\n",
      "Requirement already satisfied: CFFI>=1.0 in c:\\users\\jikim\\miniconda3\\lib\\site-packages (from sounddevice) (1.15.1)\n",
      "Requirement already satisfied: pycparser in c:\\users\\jikim\\miniconda3\\lib\\site-packages (from CFFI>=1.0->sounddevice) (2.21)\n",
      "Requirement already satisfied: soundfile in c:\\users\\jikim\\miniconda3\\lib\\site-packages (0.12.1)\n",
      "Requirement already satisfied: cffi>=1.0 in c:\\users\\jikim\\miniconda3\\lib\\site-packages (from soundfile) (1.15.1)\n",
      "Requirement already satisfied: pycparser in c:\\users\\jikim\\miniconda3\\lib\\site-packages (from cffi>=1.0->soundfile) (2.21)\n"
     ]
    }
   ],
   "source": [
    "!pip install sounddevice\n",
    "!pip install soundfile"
   ]
  },
  {
   "cell_type": "markdown",
   "id": "a1c3bdd6",
   "metadata": {},
   "source": [
    "### 음성 녹음 test"
   ]
  },
  {
   "cell_type": "code",
   "execution_count": 6,
   "id": "4c66e12e",
   "metadata": {},
   "outputs": [
    {
     "name": "stdout",
     "output_type": "stream",
     "text": [
      "start recording\n",
      "stop recording\n"
     ]
    }
   ],
   "source": [
    "import time\n",
    "import queue, os, threading\n",
    "import sounddevice as sd\n",
    "import soundfile as sf\n",
    "from scipy.io.wavfile import write\n",
    "\n",
    "q = queue.Queue()\n",
    "recorder = False\n",
    "recording = False\n",
    "\n",
    "def complicated_record():\n",
    "    with sf.SoundFile(\"test.wav\", mode='w', samplerate=16000, subtype='PCM_16', channels=1) as file:\n",
    "        with sd.InputStream(samplerate=16000, dtype='int16', channels=1, callback=complicated_save):\n",
    "            while recording:\n",
    "                file.write(q.get())\n",
    "        \n",
    "def complicated_save(indata, frames, time, status):\n",
    "    q.put(indata.copy())\n",
    "    \n",
    "def start():\n",
    "    global recorder\n",
    "    global recording\n",
    "    recording = True\n",
    "    recorder = threading.Thread(target=complicated_record)\n",
    "    print('start recording')\n",
    "    recorder.start()\n",
    "    \n",
    "def stop():\n",
    "    global recorder\n",
    "    global recording\n",
    "    recording = False\n",
    "    recorder.join()\n",
    "    print('stop recording')\n",
    "    \n",
    "start()\n",
    "time.sleep(5)\n",
    "stop()"
   ]
  },
  {
   "cell_type": "markdown",
   "id": "66837f36",
   "metadata": {},
   "source": [
    "### 음성 인식 예제"
   ]
  },
  {
   "cell_type": "code",
   "execution_count": 7,
   "id": "1d48f562",
   "metadata": {},
   "outputs": [
    {
     "name": "stdout",
     "output_type": "stream",
     "text": [
      "Requirement already satisfied: SpeechRecognition in c:\\users\\jikim\\miniconda3\\lib\\site-packages (3.10.0)\n",
      "Requirement already satisfied: requests>=2.26.0 in c:\\users\\jikim\\miniconda3\\lib\\site-packages (from SpeechRecognition) (2.28.1)\n",
      "Requirement already satisfied: charset-normalizer<3,>=2 in c:\\users\\jikim\\miniconda3\\lib\\site-packages (from requests>=2.26.0->SpeechRecognition) (2.0.4)\n",
      "Requirement already satisfied: idna<4,>=2.5 in c:\\users\\jikim\\miniconda3\\lib\\site-packages (from requests>=2.26.0->SpeechRecognition) (3.4)\n",
      "Requirement already satisfied: urllib3<1.27,>=1.21.1 in c:\\users\\jikim\\miniconda3\\lib\\site-packages (from requests>=2.26.0->SpeechRecognition) (1.26.15)\n",
      "Requirement already satisfied: certifi>=2017.4.17 in c:\\users\\jikim\\miniconda3\\lib\\site-packages (from requests>=2.26.0->SpeechRecognition) (2023.5.7)\n",
      "Requirement already satisfied: pipwin in c:\\users\\jikim\\miniconda3\\lib\\site-packages (0.5.2)\n",
      "Requirement already satisfied: docopt in c:\\users\\jikim\\miniconda3\\lib\\site-packages (from pipwin) (0.6.2)\n",
      "Requirement already satisfied: requests in c:\\users\\jikim\\miniconda3\\lib\\site-packages (from pipwin) (2.28.1)\n",
      "Requirement already satisfied: pyprind in c:\\users\\jikim\\miniconda3\\lib\\site-packages (from pipwin) (2.11.3)\n",
      "Requirement already satisfied: six in c:\\users\\jikim\\miniconda3\\lib\\site-packages (from pipwin) (1.16.0)\n",
      "Requirement already satisfied: beautifulsoup4>=4.9.0 in c:\\users\\jikim\\miniconda3\\lib\\site-packages (from pipwin) (4.12.2)\n",
      "Requirement already satisfied: js2py in c:\\users\\jikim\\miniconda3\\lib\\site-packages (from pipwin) (0.74)\n",
      "Requirement already satisfied: packaging in c:\\users\\jikim\\miniconda3\\lib\\site-packages (from pipwin) (23.0)\n",
      "Requirement already satisfied: pySmartDL>=1.3.1 in c:\\users\\jikim\\miniconda3\\lib\\site-packages (from pipwin) (1.3.4)\n",
      "Requirement already satisfied: soupsieve>1.2 in c:\\users\\jikim\\miniconda3\\lib\\site-packages (from beautifulsoup4>=4.9.0->pipwin) (2.4.1)\n",
      "Requirement already satisfied: tzlocal>=1.2 in c:\\users\\jikim\\miniconda3\\lib\\site-packages (from js2py->pipwin) (5.0.1)\n",
      "Requirement already satisfied: pyjsparser>=2.5.1 in c:\\users\\jikim\\miniconda3\\lib\\site-packages (from js2py->pipwin) (2.7.1)\n",
      "Requirement already satisfied: charset-normalizer<3,>=2 in c:\\users\\jikim\\miniconda3\\lib\\site-packages (from requests->pipwin) (2.0.4)\n",
      "Requirement already satisfied: idna<4,>=2.5 in c:\\users\\jikim\\miniconda3\\lib\\site-packages (from requests->pipwin) (3.4)\n",
      "Requirement already satisfied: urllib3<1.27,>=1.21.1 in c:\\users\\jikim\\miniconda3\\lib\\site-packages (from requests->pipwin) (1.26.15)\n",
      "Requirement already satisfied: certifi>=2017.4.17 in c:\\users\\jikim\\miniconda3\\lib\\site-packages (from requests->pipwin) (2023.5.7)\n",
      "Requirement already satisfied: tzdata in c:\\users\\jikim\\miniconda3\\lib\\site-packages (from tzlocal>=1.2->js2py->pipwin) (2023.3)\n",
      "Requirement already satisfied: backports.zoneinfo in c:\\users\\jikim\\miniconda3\\lib\\site-packages (from tzlocal>=1.2->js2py->pipwin) (0.2.1)\n",
      "Package `pyaudio` found in cache\n",
      "Downloading package . . .\n",
      "https://download.lfd.uci.edu/pythonlibs/archived/PyAudio-0.2.11-cp38-cp38-win_amd64.whl\n",
      "PyAudio-0.2.11-cp38-cp38-win_amd64.whl\n",
      "[*] 0 bytes / 111 kB @ 0 bytes/s [------------------] [0.0%, 0s left]   [*] 0 bytes / 111 kB @ 0 bytes/s [------------------] [0.0%, 0s left]   [*] 0 bytes / 111 kB @ 0 bytes/s [------------------] [0.0%, 0s left]   [*] 0 bytes / 111 kB @ 0 bytes/s [------------------] [0.0%, 0s left]   [*] 0 bytes / 111 kB @ 0 bytes/s [------------------] [0.0%, 0s left]   [*] 0 bytes / 111 kB @ 0 bytes/s [------------------] [0.0%, 0s left]   [*] 0 bytes / 111 kB @ 0 bytes/s [------------------] [0.0%, 0s left]   [*] 0 bytes / 111 kB @ 0 bytes/s [------------------] [0.0%, 0s left]   [*] 8 kB / 111 kB @ 9 kB/s [#-----------------] [7.2%, 0s left]   [*] 8 kB / 111 kB @ 8 kB/s [#-----------------] [7.2%, 0s left]   [*] 40 kB / 111 kB @ 36 kB/s [######------------] [36.0%, 0s left]  [*] 111 kB / 111 kB @ 36 kB/s [##################] [100%, 0s left]    \n",
      "Processing c:\\users\\jikim\\pipwin\\pyaudio-0.2.11-cp38-cp38-win_amd64.whl\n",
      "PyAudio is already installed with the same version as the provided wheel. Use --force-reinstall to force an installation of the wheel.\n"
     ]
    }
   ],
   "source": [
    "!pip install SpeechRecognition\n",
    "!pip install pipwin\n",
    "!pipwin install pyaudio"
   ]
  },
  {
   "cell_type": "code",
   "execution_count": 8,
   "id": "9e71c643",
   "metadata": {},
   "outputs": [
    {
     "name": "stdout",
     "output_type": "stream",
     "text": [
      "안녕하세요 음성 인식 예제 실행합니다\n"
     ]
    }
   ],
   "source": [
    "import speech_recognition as sr\n",
    "\n",
    "r = sr.Recognizer()\n",
    "\n",
    "file = sr.AudioFile('test.wav')\n",
    "with file as source:\n",
    "    audio = r.record(source)\n",
    "\n",
    "result = r.recognize_google(audio, language = \"ko-KR\")\n",
    "print(result)"
   ]
  },
  {
   "cell_type": "markdown",
   "id": "0e385460",
   "metadata": {},
   "source": [
    "### 음성 합성 예제"
   ]
  },
  {
   "cell_type": "code",
   "execution_count": 9,
   "id": "3c50801a",
   "metadata": {},
   "outputs": [
    {
     "name": "stdout",
     "output_type": "stream",
     "text": [
      "Requirement already satisfied: gTTS in c:\\users\\jikim\\miniconda3\\lib\\site-packages (2.3.2)\n",
      "Requirement already satisfied: requests<3,>=2.27 in c:\\users\\jikim\\miniconda3\\lib\\site-packages (from gTTS) (2.28.1)\n",
      "Requirement already satisfied: click<8.2,>=7.1 in c:\\users\\jikim\\miniconda3\\lib\\site-packages (from gTTS) (8.1.6)\n",
      "Requirement already satisfied: colorama in c:\\users\\jikim\\miniconda3\\lib\\site-packages (from click<8.2,>=7.1->gTTS) (0.4.6)\n",
      "Requirement already satisfied: charset-normalizer<3,>=2 in c:\\users\\jikim\\miniconda3\\lib\\site-packages (from requests<3,>=2.27->gTTS) (2.0.4)\n",
      "Requirement already satisfied: idna<4,>=2.5 in c:\\users\\jikim\\miniconda3\\lib\\site-packages (from requests<3,>=2.27->gTTS) (3.4)\n",
      "Requirement already satisfied: urllib3<1.27,>=1.21.1 in c:\\users\\jikim\\miniconda3\\lib\\site-packages (from requests<3,>=2.27->gTTS) (1.26.15)\n",
      "Requirement already satisfied: certifi>=2017.4.17 in c:\\users\\jikim\\miniconda3\\lib\\site-packages (from requests<3,>=2.27->gTTS) (2023.5.7)\n"
     ]
    }
   ],
   "source": [
    "!pip install gTTS"
   ]
  },
  {
   "cell_type": "code",
   "execution_count": 11,
   "id": "aa2aad59",
   "metadata": {},
   "outputs": [],
   "source": [
    "from gtts import gTTS\n",
    "\n",
    "def gtts_test(text: str) -> None:\n",
    "    tts = gTTS(text)\n",
    "    tts.save(f\"{text}.wav\")\n",
    "\n",
    "\n",
    "test_text = \"안녕하세요 음성 인식 예제 실행합니다\"\n",
    "gtts_test(test_text)"
   ]
  },
  {
   "cell_type": "code",
   "execution_count": null,
   "id": "f04d14f1",
   "metadata": {},
   "outputs": [],
   "source": []
  }
 ],
 "metadata": {
  "kernelspec": {
   "display_name": "Python 3 (ipykernel)",
   "language": "python",
   "name": "python3"
  },
  "language_info": {
   "codemirror_mode": {
    "name": "ipython",
    "version": 3
   },
   "file_extension": ".py",
   "mimetype": "text/x-python",
   "name": "python",
   "nbconvert_exporter": "python",
   "pygments_lexer": "ipython3",
   "version": "3.8.16"
  }
 },
 "nbformat": 4,
 "nbformat_minor": 5
}
