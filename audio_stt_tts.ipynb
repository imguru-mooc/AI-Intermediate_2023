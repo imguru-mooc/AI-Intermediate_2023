{
 "cells": [
  {
   "cell_type": "markdown",
   "id": "5a562a92",
   "metadata": {},
   "source": [
    "### 녹음을 위한 패키지 설치"
   ]
  },
  {
   "cell_type": "code",
   "execution_count": 1,
   "id": "2d902dd8",
   "metadata": {
    "scrolled": false
   },
   "outputs": [
    {
     "name": "stdout",
     "output_type": "stream",
     "text": [
      "Requirement already satisfied: sounddevice in c:\\users\\jikim\\miniconda3\\lib\\site-packages (0.4.6)\n",
      "Requirement already satisfied: CFFI>=1.0 in c:\\users\\jikim\\miniconda3\\lib\\site-packages (from sounddevice) (1.15.1)\n",
      "Requirement already satisfied: pycparser in c:\\users\\jikim\\miniconda3\\lib\\site-packages (from CFFI>=1.0->sounddevice) (2.21)\n",
      "Collecting soundfile\n",
      "  Downloading soundfile-0.12.1-py2.py3-none-win_amd64.whl (1.0 MB)\n",
      "     ---------------------------------------- 0.0/1.0 MB ? eta -:--:--\n",
      "     ---------- ----------------------------- 0.3/1.0 MB 5.7 MB/s eta 0:00:01\n",
      "     ---------------- ----------------------- 0.4/1.0 MB 4.4 MB/s eta 0:00:01\n",
      "     -------------------------------- ------- 0.8/1.0 MB 5.9 MB/s eta 0:00:01\n",
      "     ---------------------------------------- 1.0/1.0 MB 5.8 MB/s eta 0:00:00\n",
      "Requirement already satisfied: cffi>=1.0 in c:\\users\\jikim\\miniconda3\\lib\\site-packages (from soundfile) (1.15.1)\n",
      "Requirement already satisfied: pycparser in c:\\users\\jikim\\miniconda3\\lib\\site-packages (from cffi>=1.0->soundfile) (2.21)\n",
      "Installing collected packages: soundfile\n",
      "Successfully installed soundfile-0.12.1\n"
     ]
    }
   ],
   "source": [
    "!pip install sounddevice\n",
    "!pip install soundfile"
   ]
  },
  {
   "cell_type": "markdown",
   "id": "a1c3bdd6",
   "metadata": {},
   "source": [
    "### 음성 녹음 test"
   ]
  },
  {
   "cell_type": "code",
   "execution_count": 4,
   "id": "4c66e12e",
   "metadata": {},
   "outputs": [
    {
     "name": "stdout",
     "output_type": "stream",
     "text": [
      "start recording\n",
      "stop recording\n"
     ]
    }
   ],
   "source": [
    "import time\n",
    "import queue, os, threading\n",
    "import sounddevice as sd\n",
    "import soundfile as sf\n",
    "from scipy.io.wavfile import write\n",
    "\n",
    "q = queue.Queue()\n",
    "recorder = False\n",
    "recording = False\n",
    "\n",
    "def complicated_record():\n",
    "    with sf.SoundFile(\"test.wav\", mode='w', samplerate=16000, subtype='PCM_16', channels=1) as file:\n",
    "        with sd.InputStream(samplerate=16000, dtype='int16', channels=1, callback=complicated_save):\n",
    "            while recording:\n",
    "                file.write(q.get())\n",
    "        \n",
    "def complicated_save(indata, frames, time, status):\n",
    "    q.put(indata.copy())\n",
    "    \n",
    "def start():\n",
    "    global recorder\n",
    "    global recording\n",
    "    recording = True\n",
    "    recorder = threading.Thread(target=complicated_record)\n",
    "    print('start recording')\n",
    "    recorder.start()\n",
    "    \n",
    "def stop():\n",
    "    global recorder\n",
    "    global recording\n",
    "    recording = False\n",
    "    recorder.join()\n",
    "    print('stop recording')\n",
    "    \n",
    "start()\n",
    "time.sleep(5)\n",
    "stop()"
   ]
  },
  {
   "cell_type": "markdown",
   "id": "66837f36",
   "metadata": {},
   "source": [
    "### 음성 인식 예제"
   ]
  },
  {
   "cell_type": "code",
   "execution_count": 9,
   "id": "1d48f562",
   "metadata": {},
   "outputs": [
    {
     "name": "stdout",
     "output_type": "stream",
     "text": [
      "Collecting SpeechRecognition\n",
      "  Downloading SpeechRecognition-3.10.0-py2.py3-none-any.whl (32.8 MB)\n",
      "     ---------------------------------------- 0.0/32.8 MB ? eta -:--:--\n",
      "     ---------------------------------------- 0.3/32.8 MB 5.2 MB/s eta 0:00:07\n",
      "      --------------------------------------- 0.5/32.8 MB 5.1 MB/s eta 0:00:07\n",
      "      --------------------------------------- 0.8/32.8 MB 6.5 MB/s eta 0:00:05\n",
      "     - -------------------------------------- 1.2/32.8 MB 6.7 MB/s eta 0:00:05\n",
      "     - -------------------------------------- 1.5/32.8 MB 6.7 MB/s eta 0:00:05\n",
      "     -- ------------------------------------- 1.9/32.8 MB 6.6 MB/s eta 0:00:05\n",
      "     -- ------------------------------------- 2.2/32.8 MB 7.1 MB/s eta 0:00:05\n",
      "     --- ------------------------------------ 2.6/32.8 MB 7.0 MB/s eta 0:00:05\n",
      "     --- ------------------------------------ 3.1/32.8 MB 7.1 MB/s eta 0:00:05\n",
      "     ---- ----------------------------------- 3.4/32.8 MB 7.1 MB/s eta 0:00:05\n",
      "     ---- ----------------------------------- 3.8/32.8 MB 7.1 MB/s eta 0:00:05\n",
      "     ----- ---------------------------------- 4.2/32.8 MB 7.2 MB/s eta 0:00:04\n",
      "     ----- ---------------------------------- 4.6/32.8 MB 7.4 MB/s eta 0:00:04\n",
      "     ------ --------------------------------- 5.0/32.8 MB 7.4 MB/s eta 0:00:04\n",
      "     ------ --------------------------------- 5.3/32.8 MB 7.3 MB/s eta 0:00:04\n",
      "     ------ --------------------------------- 5.7/32.8 MB 7.6 MB/s eta 0:00:04\n",
      "     ------- -------------------------------- 6.1/32.8 MB 7.6 MB/s eta 0:00:04\n",
      "     -------- ------------------------------- 6.6/32.8 MB 7.5 MB/s eta 0:00:04\n",
      "     -------- ------------------------------- 7.1/32.8 MB 7.6 MB/s eta 0:00:04\n",
      "     --------- ------------------------------ 7.5/32.8 MB 7.6 MB/s eta 0:00:04\n",
      "     --------- ------------------------------ 7.6/32.8 MB 7.7 MB/s eta 0:00:04\n",
      "     --------- ------------------------------ 7.8/32.8 MB 7.3 MB/s eta 0:00:04\n",
      "     --------- ------------------------------ 8.2/32.8 MB 7.4 MB/s eta 0:00:04\n",
      "     ---------- ----------------------------- 8.5/32.8 MB 7.3 MB/s eta 0:00:04\n",
      "     ---------- ----------------------------- 8.8/32.8 MB 7.3 MB/s eta 0:00:04\n",
      "     ----------- ---------------------------- 9.3/32.8 MB 7.3 MB/s eta 0:00:04\n",
      "     ----------- ---------------------------- 9.6/32.8 MB 7.3 MB/s eta 0:00:04\n",
      "     ------------ --------------------------- 10.0/32.8 MB 7.4 MB/s eta 0:00:04\n",
      "     ------------ --------------------------- 10.3/32.8 MB 7.4 MB/s eta 0:00:04\n",
      "     ------------- -------------------------- 10.7/32.8 MB 7.5 MB/s eta 0:00:03\n",
      "     ------------- -------------------------- 11.0/32.8 MB 7.4 MB/s eta 0:00:03\n",
      "     ------------- -------------------------- 11.3/32.8 MB 7.4 MB/s eta 0:00:03\n",
      "     -------------- ------------------------- 11.6/32.8 MB 7.4 MB/s eta 0:00:03\n",
      "     -------------- ------------------------- 11.9/32.8 MB 7.4 MB/s eta 0:00:03\n",
      "     --------------- ------------------------ 12.3/32.8 MB 7.4 MB/s eta 0:00:03\n",
      "     --------------- ------------------------ 12.8/32.8 MB 7.4 MB/s eta 0:00:03\n",
      "     --------------- ------------------------ 13.0/32.8 MB 7.4 MB/s eta 0:00:03\n",
      "     ---------------- ----------------------- 13.3/32.8 MB 7.3 MB/s eta 0:00:03\n",
      "     ---------------- ----------------------- 13.5/32.8 MB 7.2 MB/s eta 0:00:03\n",
      "     ---------------- ----------------------- 13.9/32.8 MB 7.2 MB/s eta 0:00:03\n",
      "     ----------------- ---------------------- 14.3/32.8 MB 7.1 MB/s eta 0:00:03\n",
      "     ----------------- ---------------------- 14.6/32.8 MB 7.2 MB/s eta 0:00:03\n",
      "     ------------------ --------------------- 14.9/32.8 MB 7.1 MB/s eta 0:00:03\n",
      "     ------------------ --------------------- 15.2/32.8 MB 7.1 MB/s eta 0:00:03\n",
      "     ------------------- -------------------- 15.7/32.8 MB 7.1 MB/s eta 0:00:03\n",
      "     ------------------- -------------------- 16.2/32.8 MB 7.1 MB/s eta 0:00:03\n",
      "     -------------------- ------------------- 16.5/32.8 MB 7.0 MB/s eta 0:00:03\n",
      "     -------------------- ------------------- 16.8/32.8 MB 7.0 MB/s eta 0:00:03\n",
      "     -------------------- ------------------- 17.2/32.8 MB 7.0 MB/s eta 0:00:03\n",
      "     --------------------- ------------------ 17.6/32.8 MB 7.0 MB/s eta 0:00:03\n",
      "     --------------------- ------------------ 17.9/32.8 MB 7.2 MB/s eta 0:00:03\n",
      "     ---------------------- ----------------- 18.2/32.8 MB 7.2 MB/s eta 0:00:03\n",
      "     ---------------------- ----------------- 18.6/32.8 MB 7.2 MB/s eta 0:00:02\n",
      "     ----------------------- ---------------- 19.0/32.8 MB 7.3 MB/s eta 0:00:02\n",
      "     ----------------------- ---------------- 19.5/32.8 MB 7.3 MB/s eta 0:00:02\n",
      "     ------------------------ --------------- 20.0/32.8 MB 7.3 MB/s eta 0:00:02\n",
      "     ------------------------ --------------- 20.2/32.8 MB 7.3 MB/s eta 0:00:02\n",
      "     ------------------------- -------------- 20.6/32.8 MB 7.3 MB/s eta 0:00:02\n",
      "     ------------------------- -------------- 20.9/32.8 MB 7.1 MB/s eta 0:00:02\n",
      "     ------------------------- -------------- 21.3/32.8 MB 7.2 MB/s eta 0:00:02\n",
      "     -------------------------- ------------- 21.6/32.8 MB 7.3 MB/s eta 0:00:02\n",
      "     -------------------------- ------------- 22.0/32.8 MB 7.3 MB/s eta 0:00:02\n",
      "     --------------------------- ------------ 22.3/32.8 MB 7.4 MB/s eta 0:00:02\n",
      "     --------------------------- ------------ 22.7/32.8 MB 7.4 MB/s eta 0:00:02\n",
      "     ---------------------------- ----------- 23.1/32.8 MB 7.3 MB/s eta 0:00:02\n",
      "     ---------------------------- ----------- 23.5/32.8 MB 7.4 MB/s eta 0:00:02\n",
      "     ----------------------------- ---------- 23.9/32.8 MB 7.4 MB/s eta 0:00:02\n",
      "     ----------------------------- ---------- 24.1/32.8 MB 7.4 MB/s eta 0:00:02\n",
      "     ----------------------------- ---------- 24.4/32.8 MB 7.3 MB/s eta 0:00:02\n",
      "     ------------------------------ --------- 24.8/32.8 MB 7.3 MB/s eta 0:00:02\n",
      "     ------------------------------ --------- 25.1/32.8 MB 7.3 MB/s eta 0:00:02\n",
      "     ------------------------------ --------- 25.4/32.8 MB 7.4 MB/s eta 0:00:02\n",
      "     ------------------------------- -------- 25.7/32.8 MB 7.3 MB/s eta 0:00:01\n",
      "     ------------------------------- -------- 26.1/32.8 MB 7.4 MB/s eta 0:00:01\n",
      "     -------------------------------- ------- 26.4/32.8 MB 7.2 MB/s eta 0:00:01\n",
      "     -------------------------------- ------- 26.8/32.8 MB 7.3 MB/s eta 0:00:01\n",
      "     --------------------------------- ------ 27.2/32.8 MB 7.2 MB/s eta 0:00:01\n",
      "     --------------------------------- ------ 27.5/32.8 MB 7.2 MB/s eta 0:00:01\n",
      "     --------------------------------- ------ 27.9/32.8 MB 7.2 MB/s eta 0:00:01\n",
      "     ---------------------------------- ----- 28.2/32.8 MB 7.2 MB/s eta 0:00:01\n",
      "     ---------------------------------- ----- 28.5/32.8 MB 7.2 MB/s eta 0:00:01\n",
      "     ----------------------------------- ---- 29.0/32.8 MB 7.2 MB/s eta 0:00:01\n",
      "     ----------------------------------- ---- 29.4/32.8 MB 7.1 MB/s eta 0:00:01\n",
      "     ------------------------------------ --- 29.8/32.8 MB 7.2 MB/s eta 0:00:01\n",
      "     ------------------------------------ --- 30.1/32.8 MB 7.1 MB/s eta 0:00:01\n",
      "     ------------------------------------- -- 30.4/32.8 MB 7.1 MB/s eta 0:00:01\n",
      "     ------------------------------------- -- 30.8/32.8 MB 7.1 MB/s eta 0:00:01\n",
      "     ------------------------------------- -- 31.1/32.8 MB 7.2 MB/s eta 0:00:01\n",
      "     -------------------------------------- - 31.4/32.8 MB 7.2 MB/s eta 0:00:01\n",
      "     -------------------------------------- - 31.8/32.8 MB 7.2 MB/s eta 0:00:01\n",
      "     ---------------------------------------  32.1/32.8 MB 7.2 MB/s eta 0:00:01\n",
      "     ---------------------------------------  32.5/32.8 MB 7.1 MB/s eta 0:00:01\n",
      "     ---------------------------------------  32.8/32.8 MB 7.0 MB/s eta 0:00:01\n",
      "     ---------------------------------------- 32.8/32.8 MB 6.7 MB/s eta 0:00:00\n",
      "Requirement already satisfied: requests>=2.26.0 in c:\\users\\jikim\\miniconda3\\lib\\site-packages (from SpeechRecognition) (2.28.1)\n",
      "Requirement already satisfied: charset-normalizer<3,>=2 in c:\\users\\jikim\\miniconda3\\lib\\site-packages (from requests>=2.26.0->SpeechRecognition) (2.0.4)\n",
      "Requirement already satisfied: idna<4,>=2.5 in c:\\users\\jikim\\miniconda3\\lib\\site-packages (from requests>=2.26.0->SpeechRecognition) (3.4)\n",
      "Requirement already satisfied: urllib3<1.27,>=1.21.1 in c:\\users\\jikim\\miniconda3\\lib\\site-packages (from requests>=2.26.0->SpeechRecognition) (1.26.15)\n",
      "Requirement already satisfied: certifi>=2017.4.17 in c:\\users\\jikim\\miniconda3\\lib\\site-packages (from requests>=2.26.0->SpeechRecognition) (2023.5.7)\n",
      "Installing collected packages: SpeechRecognition\n",
      "Successfully installed SpeechRecognition-3.10.0\n",
      "Collecting pipwin\n",
      "  Downloading pipwin-0.5.2.tar.gz (7.9 kB)\n",
      "  Preparing metadata (setup.py): started\n",
      "  Preparing metadata (setup.py): finished with status 'done'\n",
      "Collecting docopt (from pipwin)\n",
      "  Downloading docopt-0.6.2.tar.gz (25 kB)\n",
      "  Preparing metadata (setup.py): started\n",
      "  Preparing metadata (setup.py): finished with status 'done'\n",
      "Requirement already satisfied: requests in c:\\users\\jikim\\miniconda3\\lib\\site-packages (from pipwin) (2.28.1)\n",
      "Collecting pyprind (from pipwin)\n",
      "  Downloading PyPrind-2.11.3-py2.py3-none-any.whl (8.4 kB)\n",
      "Requirement already satisfied: six in c:\\users\\jikim\\miniconda3\\lib\\site-packages (from pipwin) (1.16.0)\n",
      "Requirement already satisfied: beautifulsoup4>=4.9.0 in c:\\users\\jikim\\miniconda3\\lib\\site-packages (from pipwin) (4.12.2)\n",
      "Collecting js2py (from pipwin)\n",
      "  Downloading Js2Py-0.74-py3-none-any.whl (1.0 MB)\n",
      "     ---------------------------------------- 0.0/1.0 MB ? eta -:--:--\n",
      "     --------- ------------------------------ 0.3/1.0 MB 5.2 MB/s eta 0:00:01\n",
      "     ------------------------ --------------- 0.6/1.0 MB 6.6 MB/s eta 0:00:01\n",
      "     ------------------------------------- -- 1.0/1.0 MB 6.9 MB/s eta 0:00:01\n",
      "     ---------------------------------------- 1.0/1.0 MB 6.6 MB/s eta 0:00:00\n",
      "Requirement already satisfied: packaging in c:\\users\\jikim\\miniconda3\\lib\\site-packages (from pipwin) (23.0)\n",
      "Collecting pySmartDL>=1.3.1 (from pipwin)\n",
      "  Downloading pySmartDL-1.3.4-py3-none-any.whl (20 kB)\n",
      "Requirement already satisfied: soupsieve>1.2 in c:\\users\\jikim\\miniconda3\\lib\\site-packages (from beautifulsoup4>=4.9.0->pipwin) (2.4.1)\n",
      "Collecting tzlocal>=1.2 (from js2py->pipwin)\n",
      "  Obtaining dependency information for tzlocal>=1.2 from https://files.pythonhosted.org/packages/84/d2/730a87f0dbf184760394a85088d0d2366a5a8a32bc32ffd869a83f1de854/tzlocal-5.0.1-py3-none-any.whl.metadata\n",
      "  Downloading tzlocal-5.0.1-py3-none-any.whl.metadata (16 kB)\n",
      "Collecting pyjsparser>=2.5.1 (from js2py->pipwin)\n",
      "  Downloading pyjsparser-2.7.1.tar.gz (24 kB)\n",
      "  Preparing metadata (setup.py): started\n",
      "  Preparing metadata (setup.py): finished with status 'done'\n",
      "Requirement already satisfied: charset-normalizer<3,>=2 in c:\\users\\jikim\\miniconda3\\lib\\site-packages (from requests->pipwin) (2.0.4)\n",
      "Requirement already satisfied: idna<4,>=2.5 in c:\\users\\jikim\\miniconda3\\lib\\site-packages (from requests->pipwin) (3.4)\n",
      "Requirement already satisfied: urllib3<1.27,>=1.21.1 in c:\\users\\jikim\\miniconda3\\lib\\site-packages (from requests->pipwin) (1.26.15)\n",
      "Requirement already satisfied: certifi>=2017.4.17 in c:\\users\\jikim\\miniconda3\\lib\\site-packages (from requests->pipwin) (2023.5.7)\n",
      "Requirement already satisfied: tzdata in c:\\users\\jikim\\miniconda3\\lib\\site-packages (from tzlocal>=1.2->js2py->pipwin) (2023.3)\n",
      "Collecting backports.zoneinfo (from tzlocal>=1.2->js2py->pipwin)\n",
      "  Downloading backports.zoneinfo-0.2.1-cp38-cp38-win_amd64.whl (38 kB)\n",
      "Downloading tzlocal-5.0.1-py3-none-any.whl (20 kB)\n",
      "Building wheels for collected packages: pipwin, docopt, pyjsparser\n",
      "  Building wheel for pipwin (setup.py): started\n",
      "  Building wheel for pipwin (setup.py): finished with status 'done'\n",
      "  Created wheel for pipwin: filename=pipwin-0.5.2-py2.py3-none-any.whl size=8798 sha256=dfe0d6cf803c5e6ea61bac5f17c491f93d48025813dd76a1c971f55bddb0cecf\n",
      "  Stored in directory: c:\\users\\jikim\\appdata\\local\\pip\\cache\\wheels\\f4\\a8\\76\\372879a40d2d4dd7de23efd867ed37112687429b8d0dda4545\n",
      "  Building wheel for docopt (setup.py): started\n",
      "  Building wheel for docopt (setup.py): finished with status 'done'\n",
      "  Created wheel for docopt: filename=docopt-0.6.2-py2.py3-none-any.whl size=13775 sha256=1cad88eda6700280b40697cfc4603efbbb55c5428803567b4cc548a1c321467d\n",
      "  Stored in directory: c:\\users\\jikim\\appdata\\local\\pip\\cache\\wheels\\56\\ea\\58\\ead137b087d9e326852a851351d1debf4ada529b6ac0ec4e8c\n",
      "  Building wheel for pyjsparser (setup.py): started\n",
      "  Building wheel for pyjsparser (setup.py): finished with status 'done'\n",
      "  Created wheel for pyjsparser: filename=pyjsparser-2.7.1-py3-none-any.whl size=25988 sha256=b71ba22f730a0c7ad447815e3a2efe52e0e8c6cc3a6f4f62cc966099561b1320\n",
      "  Stored in directory: c:\\users\\jikim\\appdata\\local\\pip\\cache\\wheels\\d5\\88\\34\\ccb5bb40eb3178a134eb293e6c363928c5bcfba0b91031db76\n",
      "Successfully built pipwin docopt pyjsparser\n",
      "Installing collected packages: pySmartDL, pyprind, pyjsparser, docopt, backports.zoneinfo, tzlocal, js2py, pipwin\n",
      "Successfully installed backports.zoneinfo-0.2.1 docopt-0.6.2 js2py-0.74 pipwin-0.5.2 pySmartDL-1.3.4 pyjsparser-2.7.1 pyprind-2.11.3 tzlocal-5.0.1\n",
      "Building cache. Hang on . . .\n",
      "Done\n",
      "Package `pyaudio` found in cache\n",
      "Downloading package . . .\n",
      "https://download.lfd.uci.edu/pythonlibs/archived/PyAudio-0.2.11-cp38-cp38-win_amd64.whl\n",
      "PyAudio-0.2.11-cp38-cp38-win_amd64.whl\n",
      "[*] 0 bytes / 111 kB @ 0 bytes/s [------------------] [0.0%, 0s left]   [*] 0 bytes / 111 kB @ 0 bytes/s [------------------] [0.0%, 0s left]   [*] 0 bytes / 111 kB @ 0 bytes/s [------------------] [0.0%, 0s left]   [*] 0 bytes / 111 kB @ 0 bytes/s [------------------] [0.0%, 0s left]   [*] 0 bytes / 111 kB @ 0 bytes/s [------------------] [0.0%, 0s left]   [*] 0 bytes / 111 kB @ 0 bytes/s [------------------] [0.0%, 0s left]   [*] 0 bytes / 111 kB @ 0 bytes/s [------------------] [0.0%, 0s left]   [*] 0 bytes / 111 kB @ 0 bytes/s [------------------] [0.0%, 0s left]   [*] 8 kB / 111 kB @ 9 kB/s [#-----------------] [7.2%, 0s left]   [*] 40 kB / 111 kB @ 40 kB/s [######------------] [36.0%, 0s left]  [*] 40 kB / 111 kB @ 36 kB/s [######------------] [36.0%, 0s left]  [*] 111 kB / 111 kB @ 36 kB/s [##################] [100%, 0s left]    \n",
      "Processing c:\\users\\jikim\\pipwin\\pyaudio-0.2.11-cp38-cp38-win_amd64.whl\n",
      "Installing collected packages: PyAudio\n",
      "Successfully installed PyAudio-0.2.11\n"
     ]
    }
   ],
   "source": [
    "!pip install SpeechRecognition\n",
    "!pip install pipwin\n",
    "!pipwin install pyaudio"
   ]
  },
  {
   "cell_type": "code",
   "execution_count": null,
   "id": "9e71c643",
   "metadata": {},
   "outputs": [],
   "source": [
    "import speech_recognition as sr\n",
    "\n",
    "r = sr.Recognizer()\n",
    "\n",
    "file = sr.AudioFile('test.wav')\n",
    "with file as source:\n",
    "    audio = r.record(source)\n",
    "\n",
    "result = r.recognize_google(audio)\n",
    "print(result)"
   ]
  },
  {
   "cell_type": "markdown",
   "id": "0e385460",
   "metadata": {},
   "source": [
    "### 음성 합성 예제"
   ]
  },
  {
   "cell_type": "code",
   "execution_count": 6,
   "id": "3c50801a",
   "metadata": {},
   "outputs": [
    {
     "name": "stdout",
     "output_type": "stream",
     "text": [
      "Collecting gTTS\n",
      "  Downloading gTTS-2.3.2-py3-none-any.whl (28 kB)\n",
      "Requirement already satisfied: requests<3,>=2.27 in c:\\users\\jikim\\miniconda3\\lib\\site-packages (from gTTS) (2.28.1)\n",
      "Requirement already satisfied: click<8.2,>=7.1 in c:\\users\\jikim\\miniconda3\\lib\\site-packages (from gTTS) (8.1.6)\n",
      "Requirement already satisfied: colorama in c:\\users\\jikim\\miniconda3\\lib\\site-packages (from click<8.2,>=7.1->gTTS) (0.4.6)\n",
      "Requirement already satisfied: charset-normalizer<3,>=2 in c:\\users\\jikim\\miniconda3\\lib\\site-packages (from requests<3,>=2.27->gTTS) (2.0.4)\n",
      "Requirement already satisfied: idna<4,>=2.5 in c:\\users\\jikim\\miniconda3\\lib\\site-packages (from requests<3,>=2.27->gTTS) (3.4)\n",
      "Requirement already satisfied: urllib3<1.27,>=1.21.1 in c:\\users\\jikim\\miniconda3\\lib\\site-packages (from requests<3,>=2.27->gTTS) (1.26.15)\n",
      "Requirement already satisfied: certifi>=2017.4.17 in c:\\users\\jikim\\miniconda3\\lib\\site-packages (from requests<3,>=2.27->gTTS) (2023.5.7)\n",
      "Installing collected packages: gTTS\n",
      "Successfully installed gTTS-2.3.2\n"
     ]
    }
   ],
   "source": [
    "!pip install gTTS"
   ]
  },
  {
   "cell_type": "code",
   "execution_count": 8,
   "id": "aa2aad59",
   "metadata": {},
   "outputs": [],
   "source": [
    "from gtts import gTTS\n",
    "\n",
    "def gtts_test(text: str) -> None:\n",
    "    tts = gTTS(text)\n",
    "    tts.save(f\"{text}.wav\")\n",
    "\n",
    "\n",
    "test_text = \"안녕하세요\"\n",
    "gtts_test(test_text)"
   ]
  },
  {
   "cell_type": "code",
   "execution_count": null,
   "id": "f04d14f1",
   "metadata": {},
   "outputs": [],
   "source": []
  }
 ],
 "metadata": {
  "kernelspec": {
   "display_name": "Python 3 (ipykernel)",
   "language": "python",
   "name": "python3"
  },
  "language_info": {
   "codemirror_mode": {
    "name": "ipython",
    "version": 3
   },
   "file_extension": ".py",
   "mimetype": "text/x-python",
   "name": "python",
   "nbconvert_exporter": "python",
   "pygments_lexer": "ipython3",
   "version": "3.8.16"
  }
 },
 "nbformat": 4,
 "nbformat_minor": 5
}
