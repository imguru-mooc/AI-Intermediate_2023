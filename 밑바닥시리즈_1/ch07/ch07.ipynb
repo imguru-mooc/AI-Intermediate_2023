{
 "cells": [
  {
   "cell_type": "markdown",
   "metadata": {},
   "source": [
    "### 컨볼루션 층 테스트"
   ]
  },
  {
   "cell_type": "code",
   "execution_count": 5,
   "metadata": {},
   "outputs": [
    {
     "name": "stdout",
     "output_type": "stream",
     "text": [
      "(1, 1, 4, 4)\n",
      "[[[[ 0  1  2  3]\n",
      "   [ 4  5  6  7]\n",
      "   [ 8  9 10 11]\n",
      "   [12 13 14 15]]]]\n",
      "[[[[1. 1.]\n",
      "   [1. 1.]]]]\n",
      "(1,)\n",
      "[3]\n",
      "(1, 1, 3, 3)\n",
      "[[[[13. 17. 21.]\n",
      "   [29. 33. 37.]\n",
      "   [45. 49. 53.]]]]\n"
     ]
    }
   ],
   "source": [
    "import sys, os\n",
    "sys.path.append(os.pardir)\n",
    "import numpy as np\n",
    "from common.layers import Convolution\n",
    "\n",
    "image = np.arange(16).reshape(1,1,4,4)\n",
    "print(image.shape)\n",
    "print(image)\n",
    "\n",
    "W = np.ones((1,1,2,2))\n",
    "print(W)\n",
    "b = np.full((1,), 3)\n",
    "print(b.shape)\n",
    "print(b)\n",
    "conv = Convolution(W, b)\n",
    "out = conv.forward(image)\n",
    "print(out.shape)\n",
    "print(out)"
   ]
  },
  {
   "cell_type": "markdown",
   "metadata": {},
   "source": [
    "### 다차원 배열의 연산"
   ]
  },
  {
   "cell_type": "code",
   "execution_count": null,
   "metadata": {},
   "outputs": [],
   "source": [
    "import numpy as np\n",
    "a = np.arange(12).reshape(2,2,3)\n",
    "print(a.shape)\n",
    "print(a)"
   ]
  },
  {
   "cell_type": "code",
   "execution_count": null,
   "metadata": {},
   "outputs": [],
   "source": [
    "a = np.arange(12).reshape(2,2,3)\n",
    "b = a.transpose(2, 1, 0)\n",
    "print(b.shape)\n",
    "print(b)"
   ]
  },
  {
   "cell_type": "code",
   "execution_count": null,
   "metadata": {},
   "outputs": [],
   "source": [
    "a = np.arange(12).reshape(2,2,3)\n",
    "b = a.transpose(1, 0, 2)\n",
    "print(b.shape) # (2,2,3)\n",
    "print(b)"
   ]
  },
  {
   "cell_type": "code",
   "execution_count": null,
   "metadata": {},
   "outputs": [],
   "source": [
    "a = np.arange(12).reshape(2,2,3)\n",
    "b = a.transpose(0, 2, 1)\n",
    "print(b.shape) # (2,3,2)\n",
    "print(b)"
   ]
  },
  {
   "cell_type": "code",
   "execution_count": null,
   "metadata": {},
   "outputs": [],
   "source": [
    "a = np.arange(12).reshape(2,2,3)\n",
    "b = a.transpose(2, 0, 1)\n",
    "print(b.shape) \n",
    "print(b)"
   ]
  },
  {
   "cell_type": "markdown",
   "metadata": {},
   "source": [
    "### im2col 함수 테스트"
   ]
  },
  {
   "cell_type": "code",
   "execution_count": 9,
   "metadata": {
    "scrolled": true
   },
   "outputs": [
    {
     "name": "stdout",
     "output_type": "stream",
     "text": [
      "(27, 24)\n",
      "[[  0.   1.   4.   5.  16.  17.  20.  21.  32.  33.  36.  37.  48.  49.\n",
      "   52.  53.  64.  65.  68.  69.  80.  81.  84.  85.]\n",
      " [  1.   2.   5.   6.  17.  18.  21.  22.  33.  34.  37.  38.  49.  50.\n",
      "   53.  54.  65.  66.  69.  70.  81.  82.  85.  86.]\n",
      " [  2.   3.   6.   7.  18.  19.  22.  23.  34.  35.  38.  39.  50.  51.\n",
      "   54.  55.  66.  67.  70.  71.  82.  83.  86.  87.]\n",
      " [  4.   5.   8.   9.  20.  21.  24.  25.  36.  37.  40.  41.  52.  53.\n",
      "   56.  57.  68.  69.  72.  73.  84.  85.  88.  89.]\n",
      " [  5.   6.   9.  10.  21.  22.  25.  26.  37.  38.  41.  42.  53.  54.\n",
      "   57.  58.  69.  70.  73.  74.  85.  86.  89.  90.]\n",
      " [  6.   7.  10.  11.  22.  23.  26.  27.  38.  39.  42.  43.  54.  55.\n",
      "   58.  59.  70.  71.  74.  75.  86.  87.  90.  91.]\n",
      " [  8.   9.  12.  13.  24.  25.  28.  29.  40.  41.  44.  45.  56.  57.\n",
      "   60.  61.  72.  73.  76.  77.  88.  89.  92.  93.]\n",
      " [  9.  10.  13.  14.  25.  26.  29.  30.  41.  42.  45.  46.  57.  58.\n",
      "   61.  62.  73.  74.  77.  78.  89.  90.  93.  94.]\n",
      " [ 10.  11.  14.  15.  26.  27.  30.  31.  42.  43.  46.  47.  58.  59.\n",
      "   62.  63.  74.  75.  78.  79.  90.  91.  94.  95.]\n",
      " [ 96.  97. 100. 101. 112. 113. 116. 117. 128. 129. 132. 133. 144. 145.\n",
      "  148. 149. 160. 161. 164. 165. 176. 177. 180. 181.]\n",
      " [ 97.  98. 101. 102. 113. 114. 117. 118. 129. 130. 133. 134. 145. 146.\n",
      "  149. 150. 161. 162. 165. 166. 177. 178. 181. 182.]\n",
      " [ 98.  99. 102. 103. 114. 115. 118. 119. 130. 131. 134. 135. 146. 147.\n",
      "  150. 151. 162. 163. 166. 167. 178. 179. 182. 183.]\n",
      " [100. 101. 104. 105. 116. 117. 120. 121. 132. 133. 136. 137. 148. 149.\n",
      "  152. 153. 164. 165. 168. 169. 180. 181. 184. 185.]\n",
      " [101. 102. 105. 106. 117. 118. 121. 122. 133. 134. 137. 138. 149. 150.\n",
      "  153. 154. 165. 166. 169. 170. 181. 182. 185. 186.]\n",
      " [102. 103. 106. 107. 118. 119. 122. 123. 134. 135. 138. 139. 150. 151.\n",
      "  154. 155. 166. 167. 170. 171. 182. 183. 186. 187.]\n",
      " [104. 105. 108. 109. 120. 121. 124. 125. 136. 137. 140. 141. 152. 153.\n",
      "  156. 157. 168. 169. 172. 173. 184. 185. 188. 189.]\n",
      " [105. 106. 109. 110. 121. 122. 125. 126. 137. 138. 141. 142. 153. 154.\n",
      "  157. 158. 169. 170. 173. 174. 185. 186. 189. 190.]\n",
      " [106. 107. 110. 111. 122. 123. 126. 127. 138. 139. 142. 143. 154. 155.\n",
      "  158. 159. 170. 171. 174. 175. 186. 187. 190. 191.]\n",
      " [192. 193. 196. 197. 208. 209. 212. 213. 224. 225. 228. 229. 240. 241.\n",
      "  244. 245. 256. 257. 260. 261. 272. 273. 276. 277.]\n",
      " [193. 194. 197. 198. 209. 210. 213. 214. 225. 226. 229. 230. 241. 242.\n",
      "  245. 246. 257. 258. 261. 262. 273. 274. 277. 278.]\n",
      " [194. 195. 198. 199. 210. 211. 214. 215. 226. 227. 230. 231. 242. 243.\n",
      "  246. 247. 258. 259. 262. 263. 274. 275. 278. 279.]\n",
      " [196. 197. 200. 201. 212. 213. 216. 217. 228. 229. 232. 233. 244. 245.\n",
      "  248. 249. 260. 261. 264. 265. 276. 277. 280. 281.]\n",
      " [197. 198. 201. 202. 213. 214. 217. 218. 229. 230. 233. 234. 245. 246.\n",
      "  249. 250. 261. 262. 265. 266. 277. 278. 281. 282.]\n",
      " [198. 199. 202. 203. 214. 215. 218. 219. 230. 231. 234. 235. 246. 247.\n",
      "  250. 251. 262. 263. 266. 267. 278. 279. 282. 283.]\n",
      " [200. 201. 204. 205. 216. 217. 220. 221. 232. 233. 236. 237. 248. 249.\n",
      "  252. 253. 264. 265. 268. 269. 280. 281. 284. 285.]\n",
      " [201. 202. 205. 206. 217. 218. 221. 222. 233. 234. 237. 238. 249. 250.\n",
      "  253. 254. 265. 266. 269. 270. 281. 282. 285. 286.]\n",
      " [202. 203. 206. 207. 218. 219. 222. 223. 234. 235. 238. 239. 250. 251.\n",
      "  254. 255. 266. 267. 270. 271. 282. 283. 286. 287.]]\n"
     ]
    }
   ],
   "source": [
    "import sys, os\n",
    "sys.path.append(os.pardir)\n",
    "import numpy as np\n",
    "from common.util import im2col\n",
    "\n",
    "# x1 = np.arange(9).reshape(1, 1, 3, 3)\n",
    "# col1 = im2col(x1, 2, 2)\n",
    "# print(col1.shape)  # (N*OH*OW, C*FH*FW) => (4,4)\n",
    "# print(col1)\n",
    "\n",
    "# x2 = np.arange(18).reshape(1, 2, 3, 3)\n",
    "# col2 = im2col(x2, 2, 2)  # (N*OH*OW, C*FH*FW) => (4,8)\n",
    "# print(col2.shape)\n",
    "# print(col2)\n",
    "\n",
    "# x3 = np.arange(36).reshape(2, 2, 3, 3)\n",
    "# col3 = im2col(x3, 2, 2)   # (N*OH*OW, C*FH*FW) => (8,8)\n",
    "# print(col3.shape)\n",
    "# print(col3)\n",
    "\n",
    "x4 = np.arange(3*6*4*4).reshape(3, 6, 4, 4)\n",
    "col4 = im2col(x4, 2, 2)\n",
    "print(col4.shape)  # (N*OH*OW, C*FH*FW) => (27,24)\n",
    "print(col4)"
   ]
  },
  {
   "cell_type": "markdown",
   "metadata": {},
   "source": [
    "### np.pad() 의 동작"
   ]
  },
  {
   "cell_type": "code",
   "execution_count": 16,
   "metadata": {},
   "outputs": [
    {
     "name": "stdout",
     "output_type": "stream",
     "text": [
      "[[[[ 0  1  2  3]\n",
      "   [ 4  5  6  7]\n",
      "   [ 8  9 10 11]\n",
      "   [12 13 14 15]]]]\n",
      "[[[[ 0  1  2  3]\n",
      "   [ 4  5  6  7]\n",
      "   [ 8  9 10 11]\n",
      "   [12 13 14 15]]]]\n"
     ]
    }
   ],
   "source": [
    "import numpy as np\n",
    "pad=0\n",
    "input_data = np.arange(16).reshape((1,1,4,4))\n",
    "print(input_data)\n",
    "img = np.pad(input_data, [(0,0), (0,0), (pad, pad), (pad, pad)], 'constant')\n",
    "print(img)"
   ]
  },
  {
   "cell_type": "markdown",
   "metadata": {},
   "source": [
    "### 파이썬의 슬라이스 문법"
   ]
  },
  {
   "cell_type": "code",
   "execution_count": 24,
   "metadata": {},
   "outputs": [
    {
     "name": "stdout",
     "output_type": "stream",
     "text": [
      "(3,)\n",
      "1\n",
      "()\n",
      "[1]\n",
      "(1,)\n"
     ]
    }
   ],
   "source": [
    "a = np.array([1,2,3])\n",
    "print(a.shape)\n",
    "print(a[0])\n",
    "print(a[0].shape)\n",
    "print(a[0:1])\n",
    "print(a[0:1].shape)"
   ]
  },
  {
   "cell_type": "code",
   "execution_count": 29,
   "metadata": {},
   "outputs": [
    {
     "name": "stdout",
     "output_type": "stream",
     "text": [
      "(2, 3)\n",
      "(3,)\n",
      "[1 2 3]\n",
      "(1, 3)\n",
      "[[1 2 3]]\n"
     ]
    }
   ],
   "source": [
    "a = np.array([[1,2,3],\n",
    "              [4,5,6]])\n",
    "print(a.shape)\n",
    "print(a[0].shape)\n",
    "print(a[0])   \n",
    "\n",
    "print(a[0:1].shape) \n",
    "print(a[0:1]) "
   ]
  },
  {
   "cell_type": "code",
   "execution_count": 31,
   "metadata": {},
   "outputs": [
    {
     "name": "stdout",
     "output_type": "stream",
     "text": [
      "(1, 1, 4, 4)\n",
      "(1, 1, 3, 3)\n"
     ]
    }
   ],
   "source": [
    "a = np.arange(16).reshape(1,1,4,4)\n",
    "print(a.shape)  # (1, 1, 4, 4)\n",
    "a = a[:, :, 0:3:1, 0:3:1]\n",
    "print(a.shape) #  (1, 1, 3, 3)"
   ]
  },
  {
   "cell_type": "code",
   "execution_count": 32,
   "metadata": {},
   "outputs": [
    {
     "name": "stdout",
     "output_type": "stream",
     "text": [
      "(1, 1, 2, 2, 3, 3)\n",
      "(1, 1, 3, 3)\n"
     ]
    }
   ],
   "source": [
    "a = np.zeros(36).reshape(1,1,2,2,3,3)\n",
    "print(a.shape)  # (1, 1, 2, 2, 3, 3)\n",
    "a = a[:, :, 0, 0, :, :]\n",
    "print(a.shape)"
   ]
  },
  {
   "cell_type": "code",
   "execution_count": 34,
   "metadata": {},
   "outputs": [
    {
     "name": "stdout",
     "output_type": "stream",
     "text": [
      "[[[[[[ 0.  1.  2.]\n",
      "     [ 4.  5.  6.]\n",
      "     [ 8.  9. 10.]]\n",
      "\n",
      "    [[ 0.  0.  0.]\n",
      "     [ 0.  0.  0.]\n",
      "     [ 0.  0.  0.]]]\n",
      "\n",
      "\n",
      "   [[[ 0.  0.  0.]\n",
      "     [ 0.  0.  0.]\n",
      "     [ 0.  0.  0.]]\n",
      "\n",
      "    [[ 0.  0.  0.]\n",
      "     [ 0.  0.  0.]\n",
      "     [ 0.  0.  0.]]]]]]\n"
     ]
    }
   ],
   "source": [
    "image = np.arange(16).reshape(1,1,4,4)\n",
    "col = np.zeros(36).reshape(1,1,2,2,3,3)\n",
    "\n",
    "col[:, :, 0, 0, :, :] = image[:, :, 0:3:1, 0:3:1]\n",
    "print(col) "
   ]
  },
  {
   "cell_type": "code",
   "execution_count": null,
   "metadata": {},
   "outputs": [],
   "source": [
    "out = np.array([[13],[17],[21],[29],[33],[37],[45],[49],[53]])\n",
    "print(out.shape)\n",
    "out = out.reshape(1,1,3,3)\n",
    "print(out.shape)\n",
    "print(out)"
   ]
  },
  {
   "cell_type": "markdown",
   "metadata": {},
   "source": [
    "### input 채널이 1개인 경우"
   ]
  },
  {
   "cell_type": "code",
   "execution_count": 112,
   "metadata": {},
   "outputs": [
    {
     "name": "stdout",
     "output_type": "stream",
     "text": [
      "[[ 0.  1.  4.  5.]\n",
      " [ 1.  2.  5.  6.]\n",
      " [ 2.  3.  6.  7.]\n",
      " [ 4.  5.  8.  9.]\n",
      " [ 5.  6.  9. 10.]\n",
      " [ 6.  7. 10. 11.]\n",
      " [ 8.  9. 12. 13.]\n",
      " [ 9. 10. 13. 14.]\n",
      " [10. 11. 14. 15.]]\n",
      "[[1.]\n",
      " [1.]\n",
      " [1.]\n",
      " [1.]]\n",
      "[[13.]\n",
      " [17.]\n",
      " [21.]\n",
      " [29.]\n",
      " [33.]\n",
      " [37.]\n",
      " [45.]\n",
      " [49.]\n",
      " [53.]]\n",
      "[[[[13.]\n",
      "   [17.]\n",
      "   [21.]]\n",
      "\n",
      "  [[29.]\n",
      "   [33.]\n",
      "   [37.]]\n",
      "\n",
      "  [[45.]\n",
      "   [49.]\n",
      "   [53.]]]]\n",
      "[[[[13. 17. 21.]\n",
      "   [29. 33. 37.]\n",
      "   [45. 49. 53.]]]]\n"
     ]
    }
   ],
   "source": [
    "import sys, os\n",
    "sys.path.append(os.pardir)\n",
    "import numpy as np\n",
    "pad=0\n",
    "input_data = np.arange(16).reshape(1,1,4,4)\n",
    "img = np.pad(input_data, [(0,0), (0,0), (pad, pad), (pad, pad)], 'constant')\n",
    "col = np.zeros((1, 1, 2, 2, 3, 3))\n",
    "\n",
    "# print(img.shape)\n",
    "# print(img)\n",
    "# print(col.shape)\n",
    "# print(img[:, :, 0:3:1, 0:3:1])\n",
    "# print(img[:, :, 0:3:1, 0:3:1].shape)\n",
    "# print(col[:, :, 0, 0, :, :].shape)\n",
    "\n",
    "col[:, :, 0, 0, :, :] = img[:, :, 0:3:1, 0:3:1]\n",
    "col[:, :, 0, 1, :, :] = img[:, :, 0:3:1, 1:4:1]\n",
    "col[:, :, 1, 0, :, :] = img[:, :, 1:4:1, 0:3:1]\n",
    "col[:, :, 1, 1, :, :] = img[:, :, 1:4:1, 1:4:1]\n",
    "\n",
    "# print(col)\n",
    "ret = col.transpose(0, 4, 5, 1, 2, 3)\n",
    "# print(ret.shape)\n",
    "# print(ret)\n",
    "col = ret.reshape( 1*3*3, -1 )\n",
    "# print(col.shape)\n",
    "print(col)\n",
    "\n",
    "W = np.ones((1,1,2,2))\n",
    "# print(W)\n",
    "col_W = W.reshape(1, -1)\n",
    "# print(col_W)\n",
    "col_W =col_W.T\n",
    "print(col_W)\n",
    "# print(col_W.shape)\n",
    "b = np.full((1,),3)\n",
    "out = np.dot(col, col_W) + b\n",
    "print(out)\n",
    "out = out.reshape(1, 3, 3, -1)\n",
    "print(out)\n",
    "out = out.transpose(0, 3, 1, 2)\n",
    "print( out )"
   ]
  },
  {
   "cell_type": "markdown",
   "metadata": {},
   "source": [
    "### input 채널이 2개인 경우"
   ]
  },
  {
   "cell_type": "code",
   "execution_count": 67,
   "metadata": {},
   "outputs": [
    {
     "name": "stdout",
     "output_type": "stream",
     "text": [
      "[[ 87.]\n",
      " [ 95.]\n",
      " [103.]\n",
      " [119.]\n",
      " [127.]\n",
      " [135.]\n",
      " [151.]\n",
      " [159.]\n",
      " [167.]]\n",
      "[[[[ 87.  95. 103.]\n",
      "   [119. 127. 135.]\n",
      "   [151. 159. 167.]]]]\n"
     ]
    }
   ],
   "source": [
    "import sys, os\n",
    "sys.path.append(os.pardir)\n",
    "import numpy as np\n",
    "pad=0\n",
    "input_data = np.arange(32).reshape(1,2,4,4)\n",
    "img = np.pad(input_data, [(0,0), (0,0), (pad, pad), (pad, pad)], 'constant')\n",
    "col = np.zeros((1, 2, 2, 2, 3, 3))\n",
    "\n",
    "# print(img.shape)\n",
    "# print(img)\n",
    "# print(col.shape)\n",
    "# print(img[:, :, 0:3:1, 0:3:1])\n",
    "# print(img[:, :, 0:3:1, 0:3:1].shape)\n",
    "# print(col[:, :, 0, 0, :, :].shape)\n",
    "\n",
    "col[:, :, 0, 0, :, :] = img[:, :, 0:3:1, 0:3:1]\n",
    "col[:, :, 0, 1, :, :] = img[:, :, 0:3:1, 1:4:1]\n",
    "col[:, :, 1, 0, :, :] = img[:, :, 1:4:1, 0:3:1]\n",
    "col[:, :, 1, 1, :, :] = img[:, :, 1:4:1, 1:4:1]\n",
    "\n",
    "# print(col)\n",
    "ret = col.transpose(0, 4, 5, 1, 2, 3)\n",
    "# print(ret.shape)\n",
    "# print(ret)\n",
    "col = ret.reshape( 1*3*3, -1 )\n",
    "# print(col.shape)\n",
    "# print(col)\n",
    "\n",
    "W = np.array([[[[1,1],[1,1]]],[[[1,1],[1,1]]]])\n",
    "# print(W)\n",
    "col_W = W.reshape(1, -1).T\n",
    "# print(col_W)\n",
    "b = np.full((1,),3)\n",
    "out = np.dot(col, col_W) + b\n",
    "print(out)\n",
    "out = out.reshape(1, 3, 3, 1).transpose(0, 3, 1, 2)\n",
    "print( out )"
   ]
  },
  {
   "cell_type": "markdown",
   "metadata": {},
   "source": [
    "### input 채널 1개, 필터 2개인 경우"
   ]
  },
  {
   "cell_type": "code",
   "execution_count": 72,
   "metadata": {},
   "outputs": [
    {
     "name": "stdout",
     "output_type": "stream",
     "text": [
      "[[ 0.  1.  4.  5.]\n",
      " [ 1.  2.  5.  6.]\n",
      " [ 2.  3.  6.  7.]\n",
      " [ 4.  5.  8.  9.]\n",
      " [ 5.  6.  9. 10.]\n",
      " [ 6.  7. 10. 11.]\n",
      " [ 8.  9. 12. 13.]\n",
      " [ 9. 10. 13. 14.]\n",
      " [10. 11. 14. 15.]]\n",
      "[[1 1 1 1]\n",
      " [2 2 2 2]]\n",
      "[[1 2]\n",
      " [1 2]\n",
      " [1 2]\n",
      " [1 2]]\n",
      "[[ 13.  23.]\n",
      " [ 17.  31.]\n",
      " [ 21.  39.]\n",
      " [ 29.  55.]\n",
      " [ 33.  63.]\n",
      " [ 37.  71.]\n",
      " [ 45.  87.]\n",
      " [ 49.  95.]\n",
      " [ 53. 103.]]\n",
      "[[[[ 13.  23.]\n",
      "   [ 17.  31.]\n",
      "   [ 21.  39.]]\n",
      "\n",
      "  [[ 29.  55.]\n",
      "   [ 33.  63.]\n",
      "   [ 37.  71.]]\n",
      "\n",
      "  [[ 45.  87.]\n",
      "   [ 49.  95.]\n",
      "   [ 53. 103.]]]]\n",
      "[[[[ 13.  17.  21.]\n",
      "   [ 29.  33.  37.]\n",
      "   [ 45.  49.  53.]]\n",
      "\n",
      "  [[ 23.  31.  39.]\n",
      "   [ 55.  63.  71.]\n",
      "   [ 87.  95. 103.]]]]\n"
     ]
    }
   ],
   "source": [
    "import sys, os\n",
    "sys.path.append(os.pardir)\n",
    "import numpy as np\n",
    "pad=0\n",
    "input_data = np.arange(16).reshape((1,1,4,4))\n",
    "img = np.pad(input_data, [(0,0), (0,0), (pad, pad), (pad, pad)], 'constant')\n",
    "col = np.zeros((1, 1, 2, 2, 3, 3))\n",
    "\n",
    "# print(img.shape)\n",
    "# print(img)\n",
    "# print(col.shape)\n",
    "# print(img[:, :, 0:2:1, 0:2:1].shape)  # (1, 2, 2, 2)\n",
    "# print(col[:, :, 0, 0, :, :].shape)\n",
    "col[:, :, 0, 0, :, :] = img[:, :, 0:3:1, 0:3:1]\n",
    "col[:, :, 0, 1, :, :] = img[:, :, 0:3:1, 1:4:1]\n",
    "col[:, :, 1, 0, :, :] = img[:, :, 1:4:1, 0:3:1]\n",
    "col[:, :, 1, 1, :, :] = img[:, :, 1:4:1, 1:4:1]\n",
    "\n",
    "# print(col)\n",
    "ret = col.transpose(0, 4, 5, 1, 2, 3)\n",
    "# # print(ret.shape)\n",
    "# # print(ret)\n",
    "col = ret.reshape( 1*3*3, -1 )\n",
    "# print(col.shape)\n",
    "print(col)\n",
    "\n",
    "W = np.array([[[[1,1]],[[1,1]]],\n",
    "              [[[2,2]],[[2,2]]]])\n",
    "# print(W)\n",
    "col_W = W.reshape(2, -1)\n",
    "print(col_W)\n",
    "col_W = col_W.T\n",
    "print(col_W)\n",
    "b = np.full((1,),3)\n",
    "out = np.dot(col, col_W) + b\n",
    "print(out)\n",
    "out = out.reshape(1, 3, 3, -1)\n",
    "print(out)\n",
    "out = out.transpose(0, 3, 1, 2)\n",
    "print( out )"
   ]
  },
  {
   "cell_type": "markdown",
   "metadata": {},
   "source": [
    "### input 그림이 1개, 채널이 2개, 필터가 3개인 경우"
   ]
  },
  {
   "cell_type": "code",
   "execution_count": 78,
   "metadata": {},
   "outputs": [
    {
     "name": "stdout",
     "output_type": "stream",
     "text": [
      "[[ 0.  1.  4.  5. 16. 17. 20. 21.]\n",
      " [ 1.  2.  5.  6. 17. 18. 21. 22.]\n",
      " [ 2.  3.  6.  7. 18. 19. 22. 23.]\n",
      " [ 4.  5.  8.  9. 20. 21. 24. 25.]\n",
      " [ 5.  6.  9. 10. 21. 22. 25. 26.]\n",
      " [ 6.  7. 10. 11. 22. 23. 26. 27.]\n",
      " [ 8.  9. 12. 13. 24. 25. 28. 29.]\n",
      " [ 9. 10. 13. 14. 25. 26. 29. 30.]\n",
      " [10. 11. 14. 15. 26. 27. 30. 31.]]\n",
      "(8, 3)\n",
      "(9, 3)\n",
      "(1, 3, 3, 3)\n",
      "[[[[ 87.  95. 103.]\n",
      "   [119. 127. 135.]\n",
      "   [151. 159. 167.]]\n",
      "\n",
      "  [[ 87.  95. 103.]\n",
      "   [119. 127. 135.]\n",
      "   [151. 159. 167.]]\n",
      "\n",
      "  [[ 87.  95. 103.]\n",
      "   [119. 127. 135.]\n",
      "   [151. 159. 167.]]]]\n"
     ]
    }
   ],
   "source": [
    "import sys, os\n",
    "sys.path.append(os.pardir)\n",
    "import numpy as np\n",
    "pad=0\n",
    "input_data = np.arange(32).reshape((1,2,4,4))\n",
    "img = np.pad(input_data, [(0,0), (0,0), (pad, pad), (pad, pad)], 'constant')\n",
    "col = np.zeros((1, 2, 2, 2, 3, 3))\n",
    "\n",
    "# print(img.shape)\n",
    "# print(img)\n",
    "# print(col.shape)\n",
    "# print(img[:, :, 0:2:1, 0:2:1].shape)  # (1, 2, 2, 2)\n",
    "# print(col[:, :, 0, 0, :, :].shape)\n",
    "col[:, :, 0, 0, :, :] = img[:, :, 0:3:1, 0:3:1]\n",
    "col[:, :, 0, 1, :, :] = img[:, :, 0:3:1, 1:4:1]\n",
    "col[:, :, 1, 0, :, :] = img[:, :, 1:4:1, 0:3:1]\n",
    "col[:, :, 1, 1, :, :] = img[:, :, 1:4:1, 1:4:1]\n",
    "\n",
    "# print(col)\n",
    "ret = col.transpose(0, 4, 5, 1, 2, 3)\n",
    "# # print(ret.shape)\n",
    "# # print(ret)\n",
    "col = ret.reshape( 1*3*3, -1 )\n",
    "# print(col.shape)\n",
    "print(col)\n",
    "\n",
    "W = np.ones((3,2,2,2))\n",
    "# print(W)\n",
    "col_W = W.reshape(3, -1).T\n",
    "print(col_W.shape)\n",
    "b = np.full((1,),3)\n",
    "out = np.dot(col, col_W) + b\n",
    "print(out.shape)\n",
    "out = out.reshape(1, 3, 3, -1).transpose(0, 3, 1, 2)\n",
    "print( out.shape )\n",
    "print(out)"
   ]
  },
  {
   "cell_type": "markdown",
   "metadata": {},
   "source": [
    "### input 그림이 2개, 채널이 2개, 필터가 3개인 경우"
   ]
  },
  {
   "cell_type": "code",
   "execution_count": 81,
   "metadata": {
    "scrolled": true
   },
   "outputs": [
    {
     "name": "stdout",
     "output_type": "stream",
     "text": [
      "(2, 3, 3, 3)\n",
      "[[[[ 84.  92. 100.]\n",
      "   [116. 124. 132.]\n",
      "   [148. 156. 164.]]\n",
      "\n",
      "  [[ 84.  92. 100.]\n",
      "   [116. 124. 132.]\n",
      "   [148. 156. 164.]]\n",
      "\n",
      "  [[ 84.  92. 100.]\n",
      "   [116. 124. 132.]\n",
      "   [148. 156. 164.]]]\n",
      "\n",
      "\n",
      " [[[340. 348. 356.]\n",
      "   [372. 380. 388.]\n",
      "   [404. 412. 420.]]\n",
      "\n",
      "  [[340. 348. 356.]\n",
      "   [372. 380. 388.]\n",
      "   [404. 412. 420.]]\n",
      "\n",
      "  [[340. 348. 356.]\n",
      "   [372. 380. 388.]\n",
      "   [404. 412. 420.]]]]\n"
     ]
    }
   ],
   "source": [
    "import sys, os\n",
    "sys.path.append(os.pardir)\n",
    "import numpy as np\n",
    "pad=0\n",
    "input_data = np.arange(64).reshape((2,2,4,4))\n",
    "img = np.pad(input_data, [(0,0), (0,0), (pad, pad), (pad, pad)], 'constant')\n",
    "col = np.zeros((2, 2, 2, 2, 3, 3))\n",
    "\n",
    "# print(img.shape)\n",
    "# print(img)\n",
    "# print(col.shape)\n",
    "# print(img[:, :, 0:2:1, 0:2:1])\n",
    "# print(col)\n",
    "col[:, :, 0, 0, :, :] = img[:, :, 0:3:1, 0:3:1]\n",
    "col[:, :, 0, 1, :, :] = img[:, :, 0:3:1, 1:4:1]\n",
    "col[:, :, 1, 0, :, :] = img[:, :, 1:4:1, 0:3:1]\n",
    "col[:, :, 1, 1, :, :] = img[:, :, 1:4:1, 1:4:1]\n",
    "\n",
    "# print(col)\n",
    "ret = col.transpose(0, 4, 5, 1, 2, 3)\n",
    "# print(ret.shape)\n",
    "# print(ret)\n",
    "ret1 = ret.reshape( 2*3*3, -1 )\n",
    "# # print(ret1.shape)\n",
    "# print(ret1)\n",
    "\n",
    "W = np.ones((3,2,2,2))\n",
    "# # # print(W)\n",
    "W = W.reshape(3,-1).T\n",
    "# # # print(W)\n",
    "out_temp = np.dot(ret1, W)  # (18,8)(8,3)\n",
    "out = out_temp.reshape(2, 3, 3, -1).transpose(0, 3, 1, 2)\n",
    "print(out.shape)\n",
    "print(out)"
   ]
  },
  {
   "cell_type": "markdown",
   "metadata": {},
   "source": [
    "###  합성곱 연산의 정확한 고찰"
   ]
  },
  {
   "cell_type": "code",
   "execution_count": 85,
   "metadata": {},
   "outputs": [
    {
     "name": "stdout",
     "output_type": "stream",
     "text": [
      "(1, 1, 4, 4)\n",
      "(1, 1, 3, 3, 2, 2)\n",
      "[[ 0.  1.  4.  5.]\n",
      " [ 1.  2.  5.  6.]\n",
      " [ 2.  3.  6.  7.]\n",
      " [ 4.  5.  8.  9.]\n",
      " [ 5.  6.  9. 10.]\n",
      " [ 6.  7. 10. 11.]\n",
      " [ 8.  9. 12. 13.]\n",
      " [ 9. 10. 13. 14.]\n",
      " [10. 11. 14. 15.]]\n"
     ]
    }
   ],
   "source": [
    "import sys, os\n",
    "sys.path.append(os.pardir)\n",
    "import numpy as np\n",
    "\n",
    "filter_h=2\n",
    "filter_w=2\n",
    "out_h=3\n",
    "out_w=3\n",
    "input_data = np.arange(16).reshape((1,1,4,4))\n",
    "print(input_data.shape)\n",
    "# col = np.zeros((1, 1, filter_h, filter_w, out_h, out_w))\n",
    "col = np.zeros((1, 1, out_h, out_w, filter_h, filter_w ))\n",
    "print(col.shape)\n",
    "\n",
    "for y in range(out_h):\n",
    "    y_max = y + filter_h\n",
    "    for x in range(out_w):\n",
    "        x_max = x + filter_w\n",
    "        col[:, :, y, x, :, :] = input_data[:, :, y:y_max, x:x_max]\n",
    "\n",
    "# for y in range(filter_h):\n",
    "#     y_max = y + out_h\n",
    "#     for x in range(filter_w):\n",
    "#         x_max = x + out_w\n",
    "#         col[:, :, y, x, :, :] = input_data[:, :, y:y_max, x:x_max]\n",
    "\n",
    "\n",
    "# print(col)\n",
    "# ret = col.transpose(0, 4, 5, 1, 2, 3)\n",
    "ret1 = ret.reshape( 3*3, -1 )\n",
    "print(ret1)"
   ]
  },
  {
   "cell_type": "markdown",
   "metadata": {},
   "source": [
    "### pad=1 인경우 합성곱 연산"
   ]
  },
  {
   "cell_type": "code",
   "execution_count": 96,
   "metadata": {},
   "outputs": [
    {
     "name": "stdout",
     "output_type": "stream",
     "text": [
      "(1, 1, 4, 4)\n",
      "(1, 1, 6, 6)\n",
      "(16, 9)\n",
      "(9, 1)\n",
      "(1, 1, 4, 4)\n",
      "[[[[10. 18. 24. 18.]\n",
      "   [27. 45. 54. 39.]\n",
      "   [51. 81. 90. 63.]\n",
      "   [42. 66. 72. 50.]]]]\n"
     ]
    }
   ],
   "source": [
    "import sys, os\n",
    "sys.path.append(os.pardir)\n",
    "import numpy as np\n",
    "pad=1\n",
    "input_data = np.arange(16).reshape((1,1,4,4))\n",
    "print(input_data.shape)\n",
    "img = np.pad(input_data, [(0,0), (0,0), (pad, pad), (pad, pad)], 'constant')\n",
    "col = np.zeros((1, 1, 3, 3, 4, 4))\n",
    "\n",
    "filter_h=3\n",
    "filter_w=3\n",
    "out_h=4\n",
    "out_w=4\n",
    "stride=1\n",
    "print(img.shape)\n",
    "# print(img)\n",
    "# print(col.shape)\n",
    "# print(img[:, :, 0:2:1, 0:2:1])\n",
    "# print(col)\n",
    "for y in range(filter_h):\n",
    "    y_max = y + stride*out_h\n",
    "    for x in range(filter_w):\n",
    "        x_max = x + stride*out_w\n",
    "        col[:, :, y, x, :, :] = img[:, :, y:y_max:stride, x:x_max:stride]\n",
    "\n",
    "# # print(col)\n",
    "ret = col.transpose(0, 4, 5, 1, 2, 3)\n",
    "# # print(ret.shape)\n",
    "# # print(ret)\n",
    "ret1 = ret.reshape( 1*4*4, -1 )\n",
    "print(ret1.shape)\n",
    "# print(ret1)\n",
    "\n",
    "W = np.ones((1,1,3,3))\n",
    "# # # # print(W)\n",
    "W = W.reshape(1,-1).T\n",
    "print(W.shape)\n",
    "out_temp = np.dot(ret1, W)  # (16,9)(9,1)\n",
    "out = out_temp.reshape(1, 4, 4, -1).transpose(0, 3, 1, 2)\n",
    "print(out.shape)\n",
    "print(out)"
   ]
  },
  {
   "cell_type": "code",
   "execution_count": 105,
   "metadata": {},
   "outputs": [
    {
     "name": "stdout",
     "output_type": "stream",
     "text": [
      "(1, 1, 6, 6)\n"
     ]
    }
   ],
   "source": [
    "import sys, os\n",
    "sys.path.append(os.pardir)\n",
    "import numpy as np\n",
    "from common.layers import Convolution\n",
    "\n",
    "# image = np.arange(16).reshape(1,1,4,4)   # 4+0-2+1\n",
    "# image = np.arange(16).reshape(1,1,4,4)   # 4+2*1-2+1\n",
    "# image = np.arange(9).reshape(1,1,3,3)   # 3-2+1\n",
    "# image = np.arange(9).reshape(1,1,3,3)   # 3+2*1-2+1\n",
    "image = np.arange(9).reshape(1,1,3,3)   # 3+2*2-2+1\n",
    "\n",
    "W = np.ones((1,1,2,2))\n",
    "b = np.full((1,), 3)\n",
    "conv = Convolution(W, b, pad=2)\n",
    "out = conv.forward(image)\n",
    "print(out.shape)"
   ]
  },
  {
   "cell_type": "markdown",
   "metadata": {},
   "source": [
    "### 합성곱의 미분"
   ]
  },
  {
   "cell_type": "code",
   "execution_count": 115,
   "metadata": {},
   "outputs": [
    {
     "name": "stdout",
     "output_type": "stream",
     "text": [
      "[[1. 1. 1. 1.]\n",
      " [2. 2. 2. 2.]\n",
      " [3. 3. 3. 3.]\n",
      " [4. 4. 4. 4.]\n",
      " [5. 5. 5. 5.]\n",
      " [6. 6. 6. 6.]\n",
      " [7. 7. 7. 7.]\n",
      " [8. 8. 8. 8.]\n",
      " [9. 9. 9. 9.]]\n"
     ]
    }
   ],
   "source": [
    "W = np.ones((1,1,2,2))\n",
    "FN, C, FH, FW = W.shape\n",
    "\n",
    "dout = np.arange(1,10).reshape(1,1,3,3)\n",
    "# print(dout)\n",
    "dout = dout.transpose(0,2,3,1)\n",
    "# print(dout)\n",
    "dout = dout.reshape(-1, FN)\n",
    "# print(dout)\n",
    "db = np.sum(dout, axis=0)\n",
    "# print(db)\n",
    "dW = np.dot(col.T, dout)\n",
    "# print(dW)\n",
    "dW = dW.transpose(1, 0)\n",
    "# print(dW)\n",
    "dW = dW.reshape(FN, C, FH, FW)\n",
    "# print(dW)\n",
    "\n",
    "# print(col_W.T)\n",
    "dcol = np.dot(dout, col_W.T)\n",
    "print(dcol)"
   ]
  },
  {
   "cell_type": "code",
   "execution_count": 145,
   "metadata": {},
   "outputs": [],
   "source": [
    "def my_col2im(col, input_shape, filter_h, filter_w, stride=1, pad=0):\n",
    "    N, C, H, W = input_shape\n",
    "    out_h = (H + 2*pad - filter_h)//stride + 1\n",
    "    out_w = (W + 2*pad - filter_w)//stride + 1\n",
    "    col = col.reshape(N, out_h, out_w, C, filter_h, filter_w).transpose(0, 3, 4, 5, 1, 2)\n",
    "    print(col)\n",
    "\n",
    "    img = np.zeros((N, C, H + 2*pad + stride - 1, W + 2*pad + stride - 1))\n",
    "    for y in range(filter_h):\n",
    "        y_max = y + stride*out_h\n",
    "        for x in range(filter_w):\n",
    "            x_max = x + stride*out_w\n",
    "            img[:, :, y:y_max:stride, x:x_max:stride] += col[:, :, y, x, :, :]\n",
    "\n",
    "    return img[:, :, pad:H + pad, pad:W + pad]"
   ]
  },
  {
   "cell_type": "code",
   "execution_count": 128,
   "metadata": {},
   "outputs": [
    {
     "name": "stdout",
     "output_type": "stream",
     "text": [
      "[[[[ 1.  3.  5.  3.]\n",
      "   [ 5. 12. 16.  9.]\n",
      "   [11. 24. 28. 15.]\n",
      "   [ 7. 15. 17.  9.]]]]\n"
     ]
    }
   ],
   "source": [
    "img = my_col2im(dcol, (1,1,4,4), 2, 2)\n",
    "print(img)"
   ]
  },
  {
   "cell_type": "code",
   "execution_count": 129,
   "metadata": {},
   "outputs": [
    {
     "name": "stdout",
     "output_type": "stream",
     "text": [
      "[[[[ 0  1  2  3]\n",
      "   [ 4  5  6  7]\n",
      "   [ 8  9 10 11]\n",
      "   [12 13 14 15]]]]\n",
      "[[[[ 0.  2.  4.  3.]\n",
      "   [ 8. 20. 24. 14.]\n",
      "   [16. 36. 40. 22.]\n",
      "   [12. 26. 28. 15.]]]]\n"
     ]
    }
   ],
   "source": [
    "import sys, os\n",
    "sys.path.append(os.pardir)\n",
    "import numpy as np\n",
    "from common.util import im2col\n",
    "\n",
    "input_data = np.arange(16).reshape((1,1,4,4))\n",
    "print(input_data)\n",
    "col = im2col(input_data, 2, 2)\n",
    "# print(col.shape)\n",
    "# print(col)\n",
    "image = my_col2im(col, input_data.shape, 2, 2)\n",
    "print(image)"
   ]
  },
  {
   "cell_type": "markdown",
   "metadata": {},
   "source": [
    "###  Convolution test"
   ]
  },
  {
   "cell_type": "code",
   "execution_count": 134,
   "metadata": {},
   "outputs": [
    {
     "name": "stdout",
     "output_type": "stream",
     "text": [
      "[[[[11. 15.]\n",
      "   [23. 27.]]]]\n"
     ]
    }
   ],
   "source": [
    "import sys, os\n",
    "sys.path.append(os.pardir)  # 부모 디렉터리의 파일을 가져올 수 있도록 설정\n",
    "import numpy as np\n",
    "from common.layers import *\n",
    "\n",
    "w = np.ones((1,1,2,2))\n",
    "# print(w)\n",
    "b = np.full((1,), 3)\n",
    "# print(b)\n",
    "conv = Convolution(w, b)\n",
    "\n",
    "x = np.arange(9).reshape((1,1,3,3))\n",
    "out = conv.forward(x)\n",
    "print(out)"
   ]
  },
  {
   "cell_type": "code",
   "execution_count": 132,
   "metadata": {},
   "outputs": [
    {
     "name": "stdout",
     "output_type": "stream",
     "text": [
      "[[[[13. 17. 21.]\n",
      "   [29. 33. 37.]\n",
      "   [45. 49. 53.]]]]\n"
     ]
    }
   ],
   "source": [
    "import sys, os\n",
    "sys.path.append(os.pardir)  # 부모 디렉터리의 파일을 가져올 수 있도록 설정\n",
    "import numpy as np\n",
    "from common.layers import *\n",
    "\n",
    "w = np.ones((1,1,2,2))\n",
    "# print(w)\n",
    "b = np.full((1,), 3)\n",
    "# print(b)\n",
    "conv = Convolution(w, b)\n",
    "\n",
    "x = np.arange(16).reshape((1,1,4,4))\n",
    "out = conv.forward(x)\n",
    "print(out)"
   ]
  },
  {
   "cell_type": "code",
   "execution_count": 135,
   "metadata": {},
   "outputs": [
    {
     "name": "stdout",
     "output_type": "stream",
     "text": [
      "[[[[ 3.  4.  6.  5.]\n",
      "   [ 6. 11. 15. 10.]\n",
      "   [12. 23. 27. 16.]\n",
      "   [ 9. 16. 18. 11.]]]]\n"
     ]
    }
   ],
   "source": [
    "import sys, os\n",
    "sys.path.append(os.pardir)  # 부모 디렉터리의 파일을 가져올 수 있도록 설정\n",
    "import numpy as np\n",
    "from common.layers import *\n",
    "\n",
    "w = np.ones((1,1,2,2))\n",
    "# print(w)\n",
    "b = np.full((1,), 3)\n",
    "# print(b)\n",
    "conv = Convolution(w, b, pad=1)\n",
    "\n",
    "x = np.arange(9).reshape((1,1,3,3))\n",
    "out = conv.forward(x)\n",
    "print(out)"
   ]
  },
  {
   "cell_type": "markdown",
   "metadata": {},
   "source": [
    "### 풀링 소스 분석"
   ]
  },
  {
   "cell_type": "code",
   "execution_count": 146,
   "metadata": {},
   "outputs": [],
   "source": [
    "import sys, os\n",
    "sys.path.append(os.pardir)\n",
    "import numpy as np\n",
    "from common.util import im2col\n",
    "from common.util import col2im\n",
    "from common.layers import Convolution\n",
    "\n",
    "class MyPooling:\n",
    "    def __init__(self, pool_h, pool_w, stride=1, pad=0):\n",
    "        self.pool_h = pool_h\n",
    "        self.pool_w = pool_w\n",
    "        self.stride = stride\n",
    "        self.pad = pad\n",
    "        \n",
    "        self.x = None\n",
    "        self.arg_max = None\n",
    "\n",
    "    def forward(self, x):\n",
    "        N, C, H, W = x.shape\n",
    "        out_h = int(1 + (H - self.pool_h) / self.stride)\n",
    "        out_w = int(1 + (W - self.pool_w) / self.stride)\n",
    "\n",
    "        col = im2col(x, self.pool_h, self.pool_w, self.stride, self.pad)\n",
    "        print('col', col)  #  (N*OH*OW, C*FH*FW) => (4, 4)\n",
    "        col = col.reshape(-1, self.pool_h*self.pool_w) # (4, 4)\n",
    "        print('col', col)\n",
    "\n",
    "        arg_max = np.argmax(col, axis=1)\n",
    "        print('arg_max', arg_max)\n",
    "        out = np.max(col, axis=1)\n",
    "        print('out', out)\n",
    "        out = out.reshape(N, out_h, out_w, C).transpose(0, 3, 1, 2)\n",
    "        print('out', out)\n",
    "\n",
    "        self.x = x\n",
    "        self.arg_max = arg_max\n",
    "\n",
    "        return out\n",
    "\n",
    "    def backward(self, dout):\n",
    "        dout = dout.transpose(0, 2, 3, 1)\n",
    "        print('dout', dout)\n",
    "        \n",
    "        pool_size = self.pool_h * self.pool_w\n",
    "        dmax = np.zeros((dout.size, pool_size))\n",
    "        dmax[np.arange(self.arg_max.size), self.arg_max.flatten()] = dout.flatten()\n",
    "        print('dmax', dmax)\n",
    "        dmax = dmax.reshape(dout.shape + (pool_size,)) \n",
    "        print('dmax', dmax)\n",
    "        dcol = dmax.reshape(dmax.shape[0] * dmax.shape[1] * dmax.shape[2], -1)\n",
    "        print('dcol', dcol)\n",
    "        dx = my_col2im(dcol, self.x.shape, self.pool_h, self.pool_w, self.stride, self.pad)\n",
    "        \n",
    "        return dx"
   ]
  },
  {
   "cell_type": "markdown",
   "metadata": {},
   "source": [
    "### 채널이 1개인 경우 맥스 풀링 테스트"
   ]
  },
  {
   "cell_type": "code",
   "execution_count": 137,
   "metadata": {},
   "outputs": [
    {
     "name": "stdout",
     "output_type": "stream",
     "text": [
      "[[[[ 7 11 13 15]\n",
      "   [ 3  4  2  3]\n",
      "   [ 1  2 17  9]\n",
      "   [ 1  8  3 10]]]]\n"
     ]
    }
   ],
   "source": [
    "x = np.array([[[[ 7, 11, 13, 15],\n",
    "                [ 3,  4,  2,  3],\n",
    "                [ 1,  2, 17,  9],\n",
    "                [ 1,  8,  3, 10]]]])\n",
    "print(x)"
   ]
  },
  {
   "cell_type": "code",
   "execution_count": 138,
   "metadata": {},
   "outputs": [
    {
     "name": "stdout",
     "output_type": "stream",
     "text": [
      "col [[ 7. 11.  3.  4.]\n",
      " [13. 15.  2.  3.]\n",
      " [ 1.  2.  1.  8.]\n",
      " [17.  9.  3. 10.]]\n",
      "col [[ 7. 11.  3.  4.]\n",
      " [13. 15.  2.  3.]\n",
      " [ 1.  2.  1.  8.]\n",
      " [17.  9.  3. 10.]]\n",
      "arg_max [1 1 3 0]\n",
      "out [11. 15.  8. 17.]\n",
      "out [[[[11. 15.]\n",
      "   [ 8. 17.]]]]\n"
     ]
    },
    {
     "data": {
      "text/plain": [
       "array([[[[11., 15.],\n",
       "         [ 8., 17.]]]])"
      ]
     },
     "execution_count": 138,
     "metadata": {},
     "output_type": "execute_result"
    }
   ],
   "source": [
    "pool = MyPooling(2,2,2)\n",
    "pool.forward(x)"
   ]
  },
  {
   "cell_type": "code",
   "execution_count": null,
   "metadata": {},
   "outputs": [],
   "source": [
    "dout = np.array([[[[1,2],\n",
    "                   [3,4]]]])\n",
    "dout = dout.transpose(0, 2, 3, 1)\n",
    "print(dout.shape)\n",
    "print(dout.size)\n",
    "print(dout.flatten())"
   ]
  },
  {
   "cell_type": "code",
   "execution_count": null,
   "metadata": {},
   "outputs": [],
   "source": [
    "pool_size = pool.pool_h * pool.pool_w\n",
    "dmax = np.zeros((dout.size, pool_size))\n",
    "dmax[np.arange(pool.arg_max.size), pool.arg_max.flatten()] = dout.flatten()\n",
    "print(dmax)"
   ]
  },
  {
   "cell_type": "code",
   "execution_count": null,
   "metadata": {},
   "outputs": [],
   "source": [
    "a = [1,2,3]+[4,5]\n",
    "print(a)\n",
    "b = \"hello\"+\"world\"\n",
    "print(b)\n",
    "c = (1,2,2,1)+(4,)\n",
    "print(c)"
   ]
  },
  {
   "cell_type": "code",
   "execution_count": null,
   "metadata": {},
   "outputs": [],
   "source": [
    "dmax = dmax.reshape(dout.shape + (pool_size,)) \n",
    "print(dmax.shape)\n",
    "print(dmax)"
   ]
  },
  {
   "cell_type": "code",
   "execution_count": null,
   "metadata": {},
   "outputs": [],
   "source": [
    "dcol = dmax.reshape(dmax.shape[0] * dmax.shape[1] * dmax.shape[2], -1)\n",
    "print(dcol.shape)\n",
    "print(dcol)"
   ]
  },
  {
   "cell_type": "code",
   "execution_count": null,
   "metadata": {},
   "outputs": [],
   "source": [
    "dx = my_col2im(dcol, (1,1,4,4), 2,2,2,0)\n",
    "print(dx)"
   ]
  },
  {
   "cell_type": "code",
   "execution_count": null,
   "metadata": {
    "scrolled": true
   },
   "outputs": [],
   "source": [
    "dout = np.array([[[[0,1],\n",
    "                   [2,3]],\n",
    "                  [[4,5],\n",
    "                   [6,7]]\n",
    "                 ]])\n",
    "dx = pool.backward(dout)\n",
    "print(dx)"
   ]
  },
  {
   "cell_type": "markdown",
   "metadata": {},
   "source": [
    "### 채널이 2개인 경우 맥스 풀링 테스트"
   ]
  },
  {
   "cell_type": "code",
   "execution_count": 150,
   "metadata": {},
   "outputs": [
    {
     "name": "stdout",
     "output_type": "stream",
     "text": [
      "(1, 2, 4, 4)\n"
     ]
    }
   ],
   "source": [
    "x = np.array([[[[ 7, 11, 13, 15],\n",
    "                [ 3,  4,  2,  3],\n",
    "                [ 1,  2, 17,  9],\n",
    "                [ 1,  8,  3, 10]],\n",
    "               [[ 5,  8,  6,  7],\n",
    "                [10,  4, 11, 13],\n",
    "                [ 8,  3, 10,  4],\n",
    "                [ 1,  2,  5, 15]]\n",
    "              ]])\n",
    "print(x.shape)"
   ]
  },
  {
   "cell_type": "code",
   "execution_count": 151,
   "metadata": {},
   "outputs": [
    {
     "name": "stdout",
     "output_type": "stream",
     "text": [
      "col [[ 7. 11.  3.  4.  5.  8. 10.  4.]\n",
      " [13. 15.  2.  3.  6.  7. 11. 13.]\n",
      " [ 1.  2.  1.  8.  8.  3.  1.  2.]\n",
      " [17.  9.  3. 10. 10.  4.  5. 15.]]\n",
      "col [[ 7. 11.  3.  4.]\n",
      " [ 5.  8. 10.  4.]\n",
      " [13. 15.  2.  3.]\n",
      " [ 6.  7. 11. 13.]\n",
      " [ 1.  2.  1.  8.]\n",
      " [ 8.  3.  1.  2.]\n",
      " [17.  9.  3. 10.]\n",
      " [10.  4.  5. 15.]]\n",
      "arg_max [1 2 1 3 3 0 0 3]\n",
      "out [11. 10. 15. 13.  8.  8. 17. 15.]\n",
      "out [[[[11. 15.]\n",
      "   [ 8. 17.]]\n",
      "\n",
      "  [[10. 13.]\n",
      "   [ 8. 15.]]]]\n",
      "(1, 2, 2, 2)\n"
     ]
    }
   ],
   "source": [
    "pool = MyPooling(2,2,2)\n",
    "out = pool.forward(x)\n",
    "print(out.shape)"
   ]
  },
  {
   "cell_type": "code",
   "execution_count": 152,
   "metadata": {},
   "outputs": [
    {
     "name": "stdout",
     "output_type": "stream",
     "text": [
      "dout [[[[1 5]\n",
      "   [2 6]]\n",
      "\n",
      "  [[3 7]\n",
      "   [4 8]]]]\n",
      "dmax [[0. 1. 0. 0.]\n",
      " [0. 0. 5. 0.]\n",
      " [0. 2. 0. 0.]\n",
      " [0. 0. 0. 6.]\n",
      " [0. 0. 0. 3.]\n",
      " [7. 0. 0. 0.]\n",
      " [4. 0. 0. 0.]\n",
      " [0. 0. 0. 8.]]\n",
      "dmax [[[[[0. 1. 0. 0.]\n",
      "    [0. 0. 5. 0.]]\n",
      "\n",
      "   [[0. 2. 0. 0.]\n",
      "    [0. 0. 0. 6.]]]\n",
      "\n",
      "\n",
      "  [[[0. 0. 0. 3.]\n",
      "    [7. 0. 0. 0.]]\n",
      "\n",
      "   [[4. 0. 0. 0.]\n",
      "    [0. 0. 0. 8.]]]]]\n",
      "dcol [[0. 1. 0. 0. 0. 0. 5. 0.]\n",
      " [0. 2. 0. 0. 0. 0. 0. 6.]\n",
      " [0. 0. 0. 3. 7. 0. 0. 0.]\n",
      " [4. 0. 0. 0. 0. 0. 0. 8.]]\n",
      "[[[[[[0. 0.]\n",
      "     [0. 4.]]\n",
      "\n",
      "    [[1. 2.]\n",
      "     [0. 0.]]]\n",
      "\n",
      "\n",
      "   [[[0. 0.]\n",
      "     [0. 0.]]\n",
      "\n",
      "    [[0. 0.]\n",
      "     [3. 0.]]]]\n",
      "\n",
      "\n",
      "\n",
      "  [[[[0. 0.]\n",
      "     [7. 0.]]\n",
      "\n",
      "    [[0. 0.]\n",
      "     [0. 0.]]]\n",
      "\n",
      "\n",
      "   [[[5. 0.]\n",
      "     [0. 0.]]\n",
      "\n",
      "    [[0. 6.]\n",
      "     [0. 8.]]]]]]\n",
      "[[[[0. 1. 0. 2.]\n",
      "   [0. 0. 0. 0.]\n",
      "   [0. 0. 4. 0.]\n",
      "   [0. 3. 0. 0.]]\n",
      "\n",
      "  [[0. 0. 0. 0.]\n",
      "   [5. 0. 0. 6.]\n",
      "   [7. 0. 0. 0.]\n",
      "   [0. 0. 0. 8.]]]]\n"
     ]
    }
   ],
   "source": [
    "dout = np.array([[[[1,2],\n",
    "                   [3,4]],\n",
    "                  [[5,6],\n",
    "                   [7,8]]\n",
    "                 ]])\n",
    "dx = pool.backward(dout)\n",
    "print(dx)"
   ]
  },
  {
   "cell_type": "code",
   "execution_count": null,
   "metadata": {},
   "outputs": [],
   "source": [
    "import sys, os\n",
    "sys.path.append(os.pardir)  # 부모 디렉터리의 파일을 가져올 수 있도록 설정\n",
    "import numpy as np\n",
    "import matplotlib.pyplot as plt\n",
    "from simple_convnet import SimpleConvNet\n",
    "from matplotlib.image import imread\n",
    "from common.layers import Convolution\n",
    "\n",
    "def filter_show(filters, nx=4, show_num=16):\n",
    "    \"\"\"\n",
    "    c.f. https://gist.github.com/aidiary/07d530d5e08011832b12#file-draw_weight-py\n",
    "    \"\"\"\n",
    "    FN, C, FH, FW = filters.shape\n",
    "    ny = int(np.ceil(show_num / nx))\n",
    "\n",
    "    fig = plt.figure()\n",
    "    fig.subplots_adjust(left=0, right=1, bottom=0, top=1, hspace=0.05, wspace=0.05)\n",
    "\n",
    "    for i in range(show_num):\n",
    "        ax = fig.add_subplot(4, 4, i+1, xticks=[], yticks=[])\n",
    "        ax.imshow(filters[i, 0], cmap=plt.cm.gray_r, interpolation='nearest')\n",
    "\n",
    "\n",
    "network = SimpleConvNet(input_dim=(1,28,28), \n",
    "                        conv_param = {'filter_num':30, 'filter_size':5, 'pad':0, 'stride':1},\n",
    "                        hidden_size=100, output_size=10, weight_init_std=0.01)\n",
    "\n",
    "# 학습된 가중치\n",
    "network.load_params(\"params.pkl\")\n",
    "\n",
    "filter_show(network.params['W1'], 16)\n",
    "\n",
    "img = imread('../dataset/cactus_gray.png')\n",
    "print(img.shape)\n",
    "img = img.reshape(1, 1, *img.shape)\n",
    "print(img.shape)\n",
    "fig = plt.figure()\n",
    "\n",
    "w_idx = 1\n",
    "\n",
    "print(network.params['W1'].shape)\n",
    "for i in range(16):\n",
    "    w = network.params['W1'][i]\n",
    "    b = 0  # network.params['b1'][i]\n",
    "\n",
    "    w = w.reshape(1, *w.shape)\n",
    "    #b = b.reshape(1, *b.shape)\n",
    "    conv_layer = Convolution(w, b) \n",
    "    out = conv_layer.forward(img)\n",
    "    print(out.shape)\n",
    "    out = out.reshape(out.shape[2], out.shape[3])\n",
    "    \n",
    "    ax = fig.add_subplot(4, 4, i+1, xticks=[], yticks=[])\n",
    "    ax.imshow(out, cmap=plt.cm.gray_r, interpolation='nearest')\n",
    "\n",
    "plt.show()"
   ]
  },
  {
   "cell_type": "code",
   "execution_count": null,
   "metadata": {},
   "outputs": [],
   "source": [
    "import numpy as np\n",
    "from simple_convnet import SimpleConvNet\n",
    "\n",
    "network = SimpleConvNet(input_dim=(1,10, 10), \n",
    "                        conv_param = {'filter_num':10, 'filter_size':3, 'pad':0, 'stride':1},\n",
    "                        hidden_size=10, output_size=10, weight_init_std=0.01)\n",
    "\n",
    "X = np.random.rand(100).reshape((1, 1, 10, 10))\n",
    "T = np.array([1]).reshape((1,1))\n",
    "\n",
    "grad_num = network.numerical_gradient(X, T)\n",
    "grad = network.gradient(X, T)\n",
    "\n",
    "for key, val in grad_num.items():\n",
    "    print(key, np.abs(grad_num[key] - grad[key]).mean())"
   ]
  },
  {
   "cell_type": "code",
   "execution_count": null,
   "metadata": {},
   "outputs": [],
   "source": [
    "import sys, os\n",
    "sys.path.append(os.pardir)  # 부모 디렉터리의 파일을 가져올 수 있도록 설정\n",
    "import pickle\n",
    "import numpy as np\n",
    "from collections import OrderedDict\n",
    "from common.layers import *\n",
    "from common.gradient import numerical_gradient\n",
    "\n",
    "\n",
    "class SimpleConvNet:\n",
    "    \"\"\"단순한 합성곱 신경망\n",
    "    \n",
    "    conv - relu - pool - affine - relu - affine - softmax\n",
    "    \n",
    "    Parameters\n",
    "    ----------\n",
    "    input_size : 입력 크기（MNIST의 경우엔 784）\n",
    "    hidden_size_list : 각 은닉층의 뉴런 수를 담은 리스트（e.g. [100, 100, 100]）\n",
    "    output_size : 출력 크기（MNIST의 경우엔 10）\n",
    "    activation : 활성화 함수 - 'relu' 혹은 'sigmoid'\n",
    "    weight_init_std : 가중치의 표준편차 지정（e.g. 0.01）\n",
    "        'relu'나 'he'로 지정하면 'He 초깃값'으로 설정\n",
    "        'sigmoid'나 'xavier'로 지정하면 'Xavier 초깃값'으로 설정\n",
    "    \"\"\"\n",
    "    def __init__(self, input_dim=(1, 28, 28), \n",
    "                 conv_param={'filter_num':30, 'filter_size':5, 'pad':0, 'stride':1},\n",
    "                 hidden_size=100, output_size=10, weight_init_std=0.01):\n",
    "        filter_num = conv_param['filter_num']\n",
    "        filter_size = conv_param['filter_size']\n",
    "        filter_pad = conv_param['pad']\n",
    "        filter_stride = conv_param['stride']\n",
    "        input_size = input_dim[1]\n",
    "        conv_output_size = (input_size - filter_size + 2*filter_pad) / filter_stride + 1\n",
    "        pool_output_size = int(filter_num * (conv_output_size/2) * (conv_output_size/2))\n",
    "\n",
    "        # 가중치 초기화\n",
    "        self.params = {}\n",
    "        self.params['W1'] = weight_init_std * \\\n",
    "                            np.random.randn(filter_num, input_dim[0], filter_size, filter_size)\n",
    "        self.params['b1'] = np.zeros(filter_num)\n",
    "        self.params['W2'] = weight_init_std * \\\n",
    "                            np.random.randn(pool_output_size, hidden_size)\n",
    "        self.params['b2'] = np.zeros(hidden_size)\n",
    "        self.params['W3'] = weight_init_std * \\\n",
    "                            np.random.randn(hidden_size, output_size)\n",
    "        self.params['b3'] = np.zeros(output_size)\n",
    "\n",
    "        # 계층 생성\n",
    "        self.layers = OrderedDict()\n",
    "        self.layers['Conv1'] = Convolution(self.params['W1'], self.params['b1'],\n",
    "                                           conv_param['stride'], conv_param['pad'])\n",
    "        self.layers['Relu1'] = Relu()\n",
    "        self.layers['Pool1'] = Pooling(pool_h=2, pool_w=2, stride=2)\n",
    "        self.layers['Affine1'] = Affine(self.params['W2'], self.params['b2'])\n",
    "        self.layers['Relu2'] = Relu()\n",
    "        self.layers['Affine2'] = Affine(self.params['W3'], self.params['b3'])\n",
    "\n",
    "        self.last_layer = SoftmaxWithLoss()\n",
    "\n",
    "    def predict(self, x):\n",
    "        for layer in self.layers.values():\n",
    "            x = layer.forward(x)\n",
    "\n",
    "        return x\n",
    "\n",
    "    def loss(self, x, t):\n",
    "        \"\"\"손실 함수를 구한다.\n",
    "\n",
    "        Parameters\n",
    "        ----------\n",
    "        x : 입력 데이터\n",
    "        t : 정답 레이블\n",
    "        \"\"\"\n",
    "        y = self.predict(x)\n",
    "        return self.last_layer.forward(y, t)\n",
    "\n",
    "    def accuracy(self, x, t, batch_size=100):\n",
    "        if t.ndim != 1 : t = np.argmax(t, axis=1)\n",
    "        \n",
    "        acc = 0.0\n",
    "        \n",
    "        for i in range(int(x.shape[0] / batch_size)):\n",
    "            tx = x[i*batch_size:(i+1)*batch_size]\n",
    "            tt = t[i*batch_size:(i+1)*batch_size]\n",
    "            y = self.predict(tx)\n",
    "            y = np.argmax(y, axis=1)\n",
    "            acc += np.sum(y == tt) \n",
    "        \n",
    "        return acc / x.shape[0]\n",
    "\n",
    "    def numerical_gradient(self, x, t):\n",
    "        \"\"\"기울기를 구한다（수치미분）.\n",
    "\n",
    "        Parameters\n",
    "        ----------\n",
    "        x : 입력 데이터\n",
    "        t : 정답 레이블\n",
    "\n",
    "        Returns\n",
    "        -------\n",
    "        각 층의 기울기를 담은 사전(dictionary) 변수\n",
    "            grads['W1']、grads['W2']、... 각 층의 가중치\n",
    "            grads['b1']、grads['b2']、... 각 층의 편향\n",
    "        \"\"\"\n",
    "        loss_w = lambda w: self.loss(x, t)\n",
    "\n",
    "        grads = {}\n",
    "        for idx in (1, 2, 3):\n",
    "            grads['W' + str(idx)] = numerical_gradient(loss_w, self.params['W' + str(idx)])\n",
    "            grads['b' + str(idx)] = numerical_gradient(loss_w, self.params['b' + str(idx)])\n",
    "\n",
    "        return grads\n",
    "\n",
    "    def gradient(self, x, t):\n",
    "        \"\"\"기울기를 구한다(오차역전파법).\n",
    "\n",
    "        Parameters\n",
    "        ----------\n",
    "        x : 입력 데이터\n",
    "        t : 정답 레이블\n",
    "\n",
    "        Returns\n",
    "        -------\n",
    "        각 층의 기울기를 담은 사전(dictionary) 변수\n",
    "            grads['W1']、grads['W2']、... 각 층의 가중치\n",
    "            grads['b1']、grads['b2']、... 각 층의 편향\n",
    "        \"\"\"\n",
    "        # forward\n",
    "        self.loss(x, t)\n",
    "\n",
    "        # backward\n",
    "        dout = 1\n",
    "        dout = self.last_layer.backward(dout)\n",
    "\n",
    "        layers = list(self.layers.values())\n",
    "        layers.reverse()\n",
    "        for layer in layers:\n",
    "            dout = layer.backward(dout)\n",
    "\n",
    "        # 결과 저장\n",
    "        grads = {}\n",
    "        grads['W1'], grads['b1'] = self.layers['Conv1'].dW, self.layers['Conv1'].db\n",
    "        grads['W2'], grads['b2'] = self.layers['Affine1'].dW, self.layers['Affine1'].db\n",
    "        grads['W3'], grads['b3'] = self.layers['Affine2'].dW, self.layers['Affine2'].db\n",
    "\n",
    "        return grads\n",
    "        \n",
    "    def save_params(self, file_name=\"params.pkl\"):\n",
    "        params = {}\n",
    "        for key, val in self.params.items():\n",
    "            params[key] = val\n",
    "        with open(file_name, 'wb') as f:\n",
    "            pickle.dump(params, f)\n",
    "\n",
    "    def load_params(self, file_name=\"params.pkl\"):\n",
    "        with open(file_name, 'rb') as f:\n",
    "            params = pickle.load(f)\n",
    "        for key, val in params.items():\n",
    "            self.params[key] = val\n",
    "\n",
    "        for i, key in enumerate(['Conv1', 'Affine1', 'Affine2']):\n",
    "            self.layers[key].W = self.params['W' + str(i+1)]\n",
    "            self.layers[key].b = self.params['b' + str(i+1)]"
   ]
  },
  {
   "cell_type": "code",
   "execution_count": null,
   "metadata": {},
   "outputs": [],
   "source": [
    "import sys, os\n",
    "sys.path.append(os.pardir)  # 부모 디렉터리의 파일을 가져올 수 있도록 설정\n",
    "import numpy as np\n",
    "import matplotlib.pyplot as plt\n",
    "from dataset.mnist import load_mnist\n",
    "from simple_convnet import SimpleConvNet\n",
    "from common.trainer import Trainer\n",
    "\n",
    "# 데이터 읽기\n",
    "(x_train, t_train), (x_test, t_test) = load_mnist(flatten=False)\n",
    "print(x_train.shape)\n",
    "print(t_train.shape)"
   ]
  },
  {
   "cell_type": "code",
   "execution_count": null,
   "metadata": {},
   "outputs": [],
   "source": [
    "import sys, os\n",
    "sys.path.append(os.pardir)  # 부모 디렉터리의 파일을 가져올 수 있도록 설정\n",
    "import numpy as np\n",
    "import matplotlib.pyplot as plt\n",
    "from dataset.mnist import load_mnist\n",
    "from simple_convnet import SimpleConvNet\n",
    "from common.trainer import Trainer\n",
    "\n",
    "# 데이터 읽기\n",
    "(x_train, t_train), (x_test, t_test) = load_mnist(flatten=False)\n",
    "\n",
    "\n",
    "# 시간이 오래 걸릴 경우 데이터를 줄인다.\n",
    "x_train, t_train = x_train[:5000], t_train[:5000]\n",
    "x_test, t_test = x_test[:1000], t_test[:1000]\n",
    "\n",
    "max_epochs = 20\n",
    "\n",
    "network = SimpleConvNet(input_dim=(1,28,28), \n",
    "                        conv_param = {'filter_num': 30, 'filter_size': 5, 'pad': 0, 'stride': 1},\n",
    "                        hidden_size=100, output_size=10, weight_init_std=0.01)\n",
    "                        \n",
    "trainer = Trainer(network, x_train, t_train, x_test, t_test,\n",
    "                  epochs=max_epochs, mini_batch_size=100,\n",
    "                  optimizer='Adam', optimizer_param={'lr': 0.001},\n",
    "                  evaluate_sample_num_per_epoch=1000)  # image = (100,1,28,28) , W = (30,1,5,5)\n",
    "                                                       # out = (100,30,24,24)\n",
    "                                                       # pout = (100,30,12,12)\n",
    "                                                       # flatten = (100,30*12*12)=>(100,4320)\n",
    "                                                       # W1 = (4320, 100)\n",
    "trainer.train()\n",
    "\n",
    "# 매개변수 보존\n",
    "network.save_params(\"params.pkl\")\n",
    "print(\"Saved Network Parameters!\")\n",
    "\n",
    "# 그래프 그리기\n",
    "markers = {'train': 'o', 'test': 's'}\n",
    "x = np.arange(max_epochs)\n",
    "plt.plot(x, trainer.train_acc_list, marker='o', label='train', markevery=2)\n",
    "plt.plot(x, trainer.test_acc_list, marker='s', label='test', markevery=2)\n",
    "plt.xlabel(\"epochs\")\n",
    "plt.ylabel(\"accuracy\")\n",
    "plt.ylim(0, 1.0)\n",
    "plt.legend(loc='lower right')\n",
    "plt.show()"
   ]
  },
  {
   "cell_type": "code",
   "execution_count": null,
   "metadata": {
    "scrolled": true
   },
   "outputs": [],
   "source": [
    "import numpy as np\n",
    "import matplotlib.pyplot as plt\n",
    "from simple_convnet import SimpleConvNet\n",
    "\n",
    "def filter_show(filters, nx=8, margin=3, scale=10):\n",
    "    \"\"\"\n",
    "    c.f. https://gist.github.com/aidiary/07d530d5e08011832b12#file-draw_weight-py\n",
    "    \"\"\"\n",
    "    FN, C, FH, FW = filters.shape\n",
    "    ny = int(np.ceil(FN / nx))\n",
    "\n",
    "    fig = plt.figure()\n",
    "    fig.subplots_adjust(left=0, right=1, bottom=0, top=1, hspace=0.05, wspace=0.05)\n",
    "\n",
    "    for i in range(FN):\n",
    "        ax = fig.add_subplot(ny, nx, i+1, xticks=[], yticks=[])\n",
    "        ax.imshow(filters[i, 0], cmap=plt.cm.gray_r, interpolation='nearest')\n",
    "    plt.show()\n",
    "\n",
    "\n",
    "network = SimpleConvNet()\n",
    "# 무작위(랜덤) 초기화 후의 가중치\n",
    "filter_show(network.params['W1'])\n",
    "\n",
    "# 학습된 가중치\n",
    "network.load_params(\"params.pkl\")\n",
    "filter_show(network.params['W1'])"
   ]
  },
  {
   "cell_type": "code",
   "execution_count": null,
   "metadata": {},
   "outputs": [],
   "source": []
  }
 ],
 "metadata": {
  "kernelspec": {
   "display_name": "Python 3 (ipykernel)",
   "language": "python",
   "name": "python3"
  },
  "language_info": {
   "codemirror_mode": {
    "name": "ipython",
    "version": 3
   },
   "file_extension": ".py",
   "mimetype": "text/x-python",
   "name": "python",
   "nbconvert_exporter": "python",
   "pygments_lexer": "ipython3",
   "version": "3.9.7"
  }
 },
 "nbformat": 4,
 "nbformat_minor": 4
}
