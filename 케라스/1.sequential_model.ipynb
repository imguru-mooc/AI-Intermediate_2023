{
 "cells": [
  {
   "cell_type": "markdown",
   "metadata": {
    "id": "ZsYweEXsF1Ut"
   },
   "source": [
    "# Sequential 모델"
   ]
  },
  {
   "cell_type": "markdown",
   "metadata": {
    "id": "Ygz2642R7AEV"
   },
   "source": [
    "## 설정"
   ]
  },
  {
   "cell_type": "code",
   "execution_count": 1,
   "metadata": {
    "execution": {
     "iopub.execute_input": "2020-09-23T04:03:40.237680Z",
     "iopub.status.busy": "2020-09-23T04:03:40.237047Z",
     "iopub.status.idle": "2020-09-23T04:03:46.461327Z",
     "shell.execute_reply": "2020-09-23T04:03:46.460675Z"
    },
    "id": "kPfh5AQ8fFzQ"
   },
   "outputs": [],
   "source": [
    "import tensorflow as tf\n",
    "from tensorflow import keras\n",
    "from tensorflow.keras import layers"
   ]
  },
  {
   "cell_type": "markdown",
   "metadata": {
    "id": "H86UozfTDwPp"
   },
   "source": [
    "## Sequential 모델을 사용하는 경우\n",
    "\n",
    "`Sequential` 모델은 각 레이어에 **정확히 하나의 입력 텐서와 하나의 출력 텐서**가 있는 **일반 레이어 스택**에 적합합니다.\n",
    "\n",
    "개략적으로 다음과 같은 `Sequential` 모델은"
   ]
  },
  {
   "cell_type": "code",
   "execution_count": 2,
   "metadata": {},
   "outputs": [
    {
     "name": "stdout",
     "output_type": "stream",
     "text": [
      "[<keras.layers.core.dense.Dense object at 0x000002399B228F40>, <keras.layers.core.dense.Dense object at 0x0000023981DF5610>, <keras.layers.core.dense.Dense object at 0x0000023981DF51F0>]\n"
     ]
    }
   ],
   "source": [
    "a = [layers.Dense(2),layers.Dense(3),layers.Dense(4)]\n",
    "print(a)"
   ]
  },
  {
   "cell_type": "code",
   "execution_count": 5,
   "metadata": {
    "execution": {
     "iopub.execute_input": "2020-09-23T04:03:46.467154Z",
     "iopub.status.busy": "2020-09-23T04:03:46.466465Z",
     "iopub.status.idle": "2020-09-23T04:03:48.519729Z",
     "shell.execute_reply": "2020-09-23T04:03:48.519082Z"
    },
    "id": "ajdypoWBxCFi"
   },
   "outputs": [
    {
     "name": "stdout",
     "output_type": "stream",
     "text": [
      "[[1. 1. 1.]\n",
      " [1. 1. 1.]\n",
      " [1. 1. 1.]]\n",
      "(3, 4)\n",
      "tf.Tensor(\n",
      "[[ 0.16431224  0.16719037  0.08515974 -0.2233285 ]\n",
      " [ 0.16431224  0.16719037  0.08515974 -0.2233285 ]\n",
      " [ 0.16431224  0.16719037  0.08515974 -0.2233285 ]], shape=(3, 4), dtype=float32)\n"
     ]
    }
   ],
   "source": [
    "# Define Sequential model with 3 layers\n",
    "model = keras.Sequential(\n",
    "    [\n",
    "        layers.Dense(2, activation=\"relu\", name=\"layer1\"), # (3,3)(3,2)+(2,)\n",
    "        layers.Dense(3, activation=\"relu\", name=\"layer2\"), # (3,2)(2,3)+(3,)\n",
    "        layers.Dense(4, name=\"layer3\"),                    # (3,3)(3,4)+(4,)\n",
    "                                                           # (3,4)\n",
    "    ]\n",
    ")\n",
    "# Call model on a test input\n",
    "x = tf.ones((3, 3))\n",
    "print(x.numpy())\n",
    "y = model(x)\n",
    "print(y.shape)\n",
    "print(y)"
   ]
  },
  {
   "cell_type": "markdown",
   "metadata": {
    "id": "m9gUL80fmFFo"
   },
   "source": [
    "다음 함수와 동일합니다."
   ]
  },
  {
   "cell_type": "code",
   "execution_count": 6,
   "metadata": {
    "execution": {
     "iopub.execute_input": "2020-09-23T04:03:48.528191Z",
     "iopub.status.busy": "2020-09-23T04:03:48.527423Z",
     "iopub.status.idle": "2020-09-23T04:03:48.536655Z",
     "shell.execute_reply": "2020-09-23T04:03:48.537091Z"
    },
    "id": "gqksyI6UN0U3"
   },
   "outputs": [
    {
     "name": "stdout",
     "output_type": "stream",
     "text": [
      "(3, 3)\n",
      "(3, 2)\n",
      "(3, 3)\n",
      "(3, 4)\n"
     ]
    }
   ],
   "source": [
    "# Create 3 layers\n",
    "layer1 = layers.Dense(2, activation=\"relu\", name=\"layer1\") # (3,3)(3,2)+(2,)\n",
    "layer2 = layers.Dense(3, activation=\"relu\", name=\"layer2\") # (3,2)(2,3)+(3,)\n",
    "layer3 = layers.Dense(4, name=\"layer3\")                    # (3,3)(3,4)+(4,)\n",
    "                                                           # (3,4)\n",
    "\n",
    "# Call layers on a test input\n",
    "x = tf.ones((3, 3))\n",
    "print(x.shape)\n",
    "x = layer1(x)\n",
    "print(x.shape)\n",
    "x = layer2(x)\n",
    "print(x.shape)\n",
    "y = layer3(x)\n",
    "print(y.shape)\n",
    "# y = layer3(layer2(layer1(x)))"
   ]
  },
  {
   "cell_type": "markdown",
   "metadata": {
    "id": "MqyEgCnQVf4w"
   },
   "source": [
    "Sequential 모델은 다음의 경우에 **적합하지 않습니다**.\n",
    "\n",
    "- 모델에 다중 입력 또는 다중 출력이 있습니다\n",
    "- 레이어에 다중 입력 또는 다중 출력이 있습니다\n",
    "- 레이어 공유를 해야 합니다\n",
    "- 비선형 토폴로지를 원합니다(예: 잔류 연결, 다중 분기 모델)"
   ]
  },
  {
   "cell_type": "markdown",
   "metadata": {
    "id": "sWxFjYzpKzUD"
   },
   "source": [
    "## Sequential 모델 생성하기\n",
    "\n",
    "레이어의 목록을 Sequential 생성자에 전달하여 Sequential 모델을 만들 수 있습니다."
   ]
  },
  {
   "cell_type": "code",
   "execution_count": 7,
   "metadata": {
    "execution": {
     "iopub.execute_input": "2020-09-23T04:03:48.545374Z",
     "iopub.status.busy": "2020-09-23T04:03:48.544679Z",
     "iopub.status.idle": "2020-09-23T04:03:48.549460Z",
     "shell.execute_reply": "2020-09-23T04:03:48.549875Z"
    },
    "id": "itLg7K6qTzVO"
   },
   "outputs": [],
   "source": [
    "model = keras.Sequential(\n",
    "    [\n",
    "        layers.Dense(2, activation=\"relu\"),\n",
    "        layers.Dense(3, activation=\"relu\"),\n",
    "        layers.Dense(4),\n",
    "    ]\n",
    ")"
   ]
  },
  {
   "cell_type": "markdown",
   "metadata": {
    "id": "g3fvbcVmCHEP"
   },
   "source": [
    "속한 레이어는 `layers` 속성을 통해 접근할 수 있습니다."
   ]
  },
  {
   "cell_type": "code",
   "execution_count": 8,
   "metadata": {},
   "outputs": [
    {
     "data": {
      "text/plain": [
       "['_SCALAR_UPRANKING_ON',\n",
       " '_TF_MODULE_IGNORED_PROPERTIES',\n",
       " '__call__',\n",
       " '__class__',\n",
       " '__copy__',\n",
       " '__deepcopy__',\n",
       " '__delattr__',\n",
       " '__dict__',\n",
       " '__dir__',\n",
       " '__doc__',\n",
       " '__eq__',\n",
       " '__format__',\n",
       " '__ge__',\n",
       " '__getattribute__',\n",
       " '__getstate__',\n",
       " '__gt__',\n",
       " '__hash__',\n",
       " '__init__',\n",
       " '__init_subclass__',\n",
       " '__le__',\n",
       " '__lt__',\n",
       " '__module__',\n",
       " '__ne__',\n",
       " '__new__',\n",
       " '__reduce__',\n",
       " '__reduce_ex__',\n",
       " '__repr__',\n",
       " '__setattr__',\n",
       " '__setstate__',\n",
       " '__sizeof__',\n",
       " '__str__',\n",
       " '__subclasshook__',\n",
       " '__weakref__',\n",
       " '_activity_regularizer',\n",
       " '_add_trackable',\n",
       " '_add_trackable_child',\n",
       " '_add_variable_with_custom_getter',\n",
       " '_assert_compile_was_called',\n",
       " '_assert_weights_created',\n",
       " '_auto_track_sub_layers',\n",
       " '_autocast',\n",
       " '_autographed_call',\n",
       " '_base_model_initialized',\n",
       " '_build_graph_network_for_inferred_shape',\n",
       " '_build_input_shape',\n",
       " '_call_accepts_kwargs',\n",
       " '_call_arg_was_passed',\n",
       " '_call_fn_arg_defaults',\n",
       " '_call_fn_arg_positions',\n",
       " '_call_fn_args',\n",
       " '_call_full_argspec',\n",
       " '_callable_losses',\n",
       " '_cast_single_input',\n",
       " '_check_call_args',\n",
       " '_checkpoint_dependencies',\n",
       " '_clear_losses',\n",
       " '_cluster_coordinator',\n",
       " '_compile_was_called',\n",
       " '_compiled_trainable_state',\n",
       " '_compute_dtype',\n",
       " '_compute_dtype_object',\n",
       " '_compute_output_and_mask_jointly',\n",
       " '_compute_tensor_usage_count',\n",
       " '_configure_steps_per_execution',\n",
       " '_conform_to_reference_input',\n",
       " '_created_nodes',\n",
       " '_dedup_weights',\n",
       " '_default_training_arg',\n",
       " '_deferred_dependencies',\n",
       " '_delete_tracking',\n",
       " '_deserialization_dependencies',\n",
       " '_deserialize_from_proto',\n",
       " '_distribution_strategy',\n",
       " '_dtype',\n",
       " '_dtype_policy',\n",
       " '_dynamic',\n",
       " '_eager_losses',\n",
       " '_expects_mask_arg',\n",
       " '_expects_training_arg',\n",
       " '_flatten',\n",
       " '_flatten_layers',\n",
       " '_flatten_modules',\n",
       " '_flatten_to_reference_inputs',\n",
       " '_functional_construction_call',\n",
       " '_gather_children_attribute',\n",
       " '_gather_saveables_for_checkpoint',\n",
       " '_get_call_arg_value',\n",
       " '_get_callback_model',\n",
       " '_get_cell_name',\n",
       " '_get_compile_args',\n",
       " '_get_existing_metric',\n",
       " '_get_input_masks',\n",
       " '_get_legacy_saved_model_children',\n",
       " '_get_node_attribute_at_index',\n",
       " '_get_optimizer',\n",
       " '_get_save_spec',\n",
       " '_get_trainable_state',\n",
       " '_graph_initialized',\n",
       " '_graph_network_add_loss',\n",
       " '_graph_network_add_metric',\n",
       " '_handle_activity_regularization',\n",
       " '_handle_deferred_dependencies',\n",
       " '_handle_deferred_layer_dependencies',\n",
       " '_handle_weight_regularization',\n",
       " '_has_explicit_input_shape',\n",
       " '_in_multi_worker_mode',\n",
       " '_inbound_nodes',\n",
       " '_inbound_nodes_value',\n",
       " '_infer_output_signature',\n",
       " '_inferred_input_shape',\n",
       " '_init_batch_counters',\n",
       " '_init_call_fn_args',\n",
       " '_init_graph_network',\n",
       " '_init_set_name',\n",
       " '_initial_weights',\n",
       " '_input_dtype',\n",
       " '_input_spec',\n",
       " '_insert_layers',\n",
       " '_instrument_layer_creation',\n",
       " '_instrumented_keras_api',\n",
       " '_instrumented_keras_layer_class',\n",
       " '_instrumented_keras_model_class',\n",
       " '_is_compiled',\n",
       " '_is_graph_network',\n",
       " '_is_layer',\n",
       " '_is_layer_name_unique',\n",
       " '_is_model_for_instrumentation',\n",
       " '_keras_api_names',\n",
       " '_keras_api_names_v1',\n",
       " '_keras_tensor_symbolic_call',\n",
       " '_layer_call_argspecs',\n",
       " '_layer_checkpoint_dependencies',\n",
       " '_list_extra_dependencies_for_serialization',\n",
       " '_list_functions_for_serialization',\n",
       " '_lookup_dependency',\n",
       " '_losses',\n",
       " '_map_resources',\n",
       " '_maybe_build',\n",
       " '_maybe_cast_inputs',\n",
       " '_maybe_create_attribute',\n",
       " '_maybe_initialize_trackable',\n",
       " '_maybe_load_initial_epoch_from_ckpt',\n",
       " '_metrics',\n",
       " '_metrics_lock',\n",
       " '_must_restore_from_config',\n",
       " '_name',\n",
       " '_name_based_attribute_restore',\n",
       " '_name_based_restores',\n",
       " '_name_scope',\n",
       " '_no_dependency',\n",
       " '_non_trainable_weights',\n",
       " '_obj_reference_counts',\n",
       " '_object_identifier',\n",
       " '_outbound_nodes',\n",
       " '_outbound_nodes_value',\n",
       " '_outer_name_scope',\n",
       " '_predict_counter',\n",
       " '_preload_simple_restoration',\n",
       " '_preserve_input_structure_in_config',\n",
       " '_reset_compile_cache',\n",
       " '_restore_from_checkpoint_position',\n",
       " '_run_eagerly',\n",
       " '_run_internal_graph',\n",
       " '_saved_model_arg_spec',\n",
       " '_saved_model_inputs_spec',\n",
       " '_self_name_based_restores',\n",
       " '_self_saveable_object_factories',\n",
       " '_self_setattr_tracking',\n",
       " '_self_tracked_trackables',\n",
       " '_self_unconditional_checkpoint_dependencies',\n",
       " '_self_unconditional_deferred_dependencies',\n",
       " '_self_unconditional_dependency_names',\n",
       " '_self_update_uid',\n",
       " '_serialize_to_proto',\n",
       " '_set_call_arg_value',\n",
       " '_set_connectivity_metadata',\n",
       " '_set_dtype_policy',\n",
       " '_set_inputs',\n",
       " '_set_mask_keras_history_checked',\n",
       " '_set_mask_metadata',\n",
       " '_set_output_names',\n",
       " '_set_save_spec',\n",
       " '_set_trainable_state',\n",
       " '_set_training_mode',\n",
       " '_setattr_tracking',\n",
       " '_should_cast_single_input',\n",
       " '_should_compute_mask',\n",
       " '_should_eval',\n",
       " '_single_restoration_from_checkpoint_position',\n",
       " '_split_out_first_arg',\n",
       " '_stateful',\n",
       " '_steps_per_execution',\n",
       " '_supports_masking',\n",
       " '_symbolic_call',\n",
       " '_test_counter',\n",
       " '_tf_api_names',\n",
       " '_tf_api_names_v1',\n",
       " '_thread_local',\n",
       " '_track_trackable',\n",
       " '_trackable_children',\n",
       " '_trackable_saved_model_saver',\n",
       " '_trackable_saver',\n",
       " '_tracking_metadata',\n",
       " '_train_counter',\n",
       " '_trainable',\n",
       " '_trainable_weights',\n",
       " '_training_state',\n",
       " '_unconditional_checkpoint_dependencies',\n",
       " '_unconditional_dependency_names',\n",
       " '_undeduplicated_weights',\n",
       " '_update_uid',\n",
       " '_updated_config',\n",
       " '_updates',\n",
       " '_use_input_spec_as_call_signature',\n",
       " '_use_legacy_deferred_behavior',\n",
       " '_validate_compile',\n",
       " '_validate_graph_inputs_and_outputs',\n",
       " '_validate_target_and_loss',\n",
       " 'activity_regularizer',\n",
       " 'add',\n",
       " 'add_loss',\n",
       " 'add_metric',\n",
       " 'add_update',\n",
       " 'add_variable',\n",
       " 'add_weight',\n",
       " 'apply',\n",
       " 'build',\n",
       " 'built',\n",
       " 'call',\n",
       " 'compile',\n",
       " 'compiled_loss',\n",
       " 'compiled_metrics',\n",
       " 'compute_dtype',\n",
       " 'compute_loss',\n",
       " 'compute_mask',\n",
       " 'compute_metrics',\n",
       " 'compute_output_shape',\n",
       " 'compute_output_signature',\n",
       " 'count_params',\n",
       " 'distribute_strategy',\n",
       " 'dtype',\n",
       " 'dtype_policy',\n",
       " 'dynamic',\n",
       " 'evaluate',\n",
       " 'evaluate_generator',\n",
       " 'finalize_state',\n",
       " 'fit',\n",
       " 'fit_generator',\n",
       " 'from_config',\n",
       " 'get_config',\n",
       " 'get_input_at',\n",
       " 'get_input_mask_at',\n",
       " 'get_input_shape_at',\n",
       " 'get_layer',\n",
       " 'get_losses_for',\n",
       " 'get_output_at',\n",
       " 'get_output_mask_at',\n",
       " 'get_output_shape_at',\n",
       " 'get_updates_for',\n",
       " 'get_weights',\n",
       " 'history',\n",
       " 'inbound_nodes',\n",
       " 'input',\n",
       " 'input_mask',\n",
       " 'input_names',\n",
       " 'input_shape',\n",
       " 'input_spec',\n",
       " 'inputs',\n",
       " 'layers',\n",
       " 'load_weights',\n",
       " 'losses',\n",
       " 'make_predict_function',\n",
       " 'make_test_function',\n",
       " 'make_train_function',\n",
       " 'metrics',\n",
       " 'metrics_names',\n",
       " 'name',\n",
       " 'name_scope',\n",
       " 'non_trainable_variables',\n",
       " 'non_trainable_weights',\n",
       " 'optimizer',\n",
       " 'outbound_nodes',\n",
       " 'output',\n",
       " 'output_mask',\n",
       " 'output_names',\n",
       " 'output_shape',\n",
       " 'outputs',\n",
       " 'pop',\n",
       " 'predict',\n",
       " 'predict_function',\n",
       " 'predict_generator',\n",
       " 'predict_on_batch',\n",
       " 'predict_step',\n",
       " 'reset_metrics',\n",
       " 'reset_states',\n",
       " 'run_eagerly',\n",
       " 'save',\n",
       " 'save_spec',\n",
       " 'save_weights',\n",
       " 'set_weights',\n",
       " 'state_updates',\n",
       " 'stateful',\n",
       " 'stop_training',\n",
       " 'submodules',\n",
       " 'summary',\n",
       " 'supports_masking',\n",
       " 'test_function',\n",
       " 'test_on_batch',\n",
       " 'test_step',\n",
       " 'to_json',\n",
       " 'to_yaml',\n",
       " 'train_function',\n",
       " 'train_on_batch',\n",
       " 'train_step',\n",
       " 'train_tf_function',\n",
       " 'trainable',\n",
       " 'trainable_variables',\n",
       " 'trainable_weights',\n",
       " 'updates',\n",
       " 'variable_dtype',\n",
       " 'variables',\n",
       " 'weights',\n",
       " 'with_name_scope']"
      ]
     },
     "execution_count": 8,
     "metadata": {},
     "output_type": "execute_result"
    }
   ],
   "source": [
    "dir(model)"
   ]
  },
  {
   "cell_type": "code",
   "execution_count": 9,
   "metadata": {
    "execution": {
     "iopub.execute_input": "2020-09-23T04:03:48.559195Z",
     "iopub.status.busy": "2020-09-23T04:03:48.558546Z",
     "iopub.status.idle": "2020-09-23T04:03:48.563436Z",
     "shell.execute_reply": "2020-09-23T04:03:48.563975Z"
    },
    "id": "Lwmuasfp5KXs"
   },
   "outputs": [
    {
     "data": {
      "text/plain": [
       "[<keras.layers.core.dense.Dense at 0x23981faa850>,\n",
       " <keras.layers.core.dense.Dense at 0x23981faa640>,\n",
       " <keras.layers.core.dense.Dense at 0x23981faac40>]"
      ]
     },
     "execution_count": 9,
     "metadata": {},
     "output_type": "execute_result"
    }
   ],
   "source": [
    "model.layers"
   ]
  },
  {
   "cell_type": "markdown",
   "metadata": {
    "id": "qVNQRoWqJ3PY"
   },
   "source": [
    "`add()` 메서드를 통해 Sequential 모델을 점진적으로 작성할 수도 있습니다."
   ]
  },
  {
   "cell_type": "code",
   "execution_count": 13,
   "metadata": {
    "execution": {
     "iopub.execute_input": "2020-09-23T04:03:48.570264Z",
     "iopub.status.busy": "2020-09-23T04:03:48.569611Z",
     "iopub.status.idle": "2020-09-23T04:03:48.576262Z",
     "shell.execute_reply": "2020-09-23T04:03:48.576678Z"
    },
    "id": "2TD4yRflSEv6"
   },
   "outputs": [
    {
     "name": "stdout",
     "output_type": "stream",
     "text": [
      "[]\n",
      "[<keras.layers.core.dense.Dense object at 0x0000023982003DC0>, <keras.layers.core.dense.Dense object at 0x0000023982003E50>, <keras.layers.core.dense.Dense object at 0x0000023981E71AF0>]\n"
     ]
    }
   ],
   "source": [
    "model = keras.Sequential()\n",
    "print(model.layers)\n",
    "model.add(layers.Dense(2, activation=\"relu\"))\n",
    "model.add(layers.Dense(3, activation=\"relu\"))\n",
    "model.add(layers.Dense(4))\n",
    "print(model.layers)"
   ]
  },
  {
   "cell_type": "markdown",
   "metadata": {
    "id": "PmunUrP7HhMI"
   },
   "source": [
    "레이어를 제거하는 `pop()` 메서드도 있습니다. Sequential 모델은 레이어의 리스트와 매우 유사하게 동작합니다."
   ]
  },
  {
   "cell_type": "code",
   "execution_count": 14,
   "metadata": {
    "execution": {
     "iopub.execute_input": "2020-09-23T04:03:48.580678Z",
     "iopub.status.busy": "2020-09-23T04:03:48.580032Z",
     "iopub.status.idle": "2020-09-23T04:03:48.582916Z",
     "shell.execute_reply": "2020-09-23T04:03:48.582424Z"
    },
    "id": "6INo3oxSLUbA"
   },
   "outputs": [
    {
     "name": "stdout",
     "output_type": "stream",
     "text": [
      "2\n",
      "[<keras.layers.core.dense.Dense object at 0x0000023982003DC0>, <keras.layers.core.dense.Dense object at 0x0000023982003E50>]\n"
     ]
    }
   ],
   "source": [
    "model.pop() # Last In First Out\n",
    "print(len(model.layers))  # 2\n",
    "print(model.layers)"
   ]
  },
  {
   "cell_type": "markdown",
   "metadata": {
    "id": "AAvcsRrOxQ9W"
   },
   "source": [
    "또한 Sequential 생성자는 Keras의 모든 레이어 또는 모델과 마찬가지로 `name` 인수를 허용합니다. 이것은 의미론적으로 유의미한 이름으로 TensorBoard 그래프에 주석을 달 때 유용합니다."
   ]
  },
  {
   "cell_type": "code",
   "execution_count": 15,
   "metadata": {
    "execution": {
     "iopub.execute_input": "2020-09-23T04:03:48.589100Z",
     "iopub.status.busy": "2020-09-23T04:03:48.588477Z",
     "iopub.status.idle": "2020-09-23T04:03:48.595572Z",
     "shell.execute_reply": "2020-09-23T04:03:48.594982Z"
    },
    "id": "s8oN1kMYqSuD"
   },
   "outputs": [],
   "source": [
    "model = keras.Sequential(name=\"my_sequential\")\n",
    "model.add(layers.Dense(2, activation=\"relu\", name=\"layer1\"))\n",
    "model.add(layers.Dense(3, activation=\"relu\", name=\"layer2\"))\n",
    "model.add(layers.Dense(4, name=\"layer3\"))"
   ]
  },
  {
   "cell_type": "markdown",
   "metadata": {
    "id": "PqGh2rmljliN"
   },
   "source": [
    "## 미리 입력 형상 지정하기\n",
    "\n",
    "일반적으로 Keras의 모든 레이어는 가중치를 만들려면 입력의 형상을 알아야 합니다. 따라서 다음과 같은 레이어를 만들면 처음에는 가중치가 없습니다."
   ]
  },
  {
   "cell_type": "code",
   "execution_count": 16,
   "metadata": {
    "execution": {
     "iopub.execute_input": "2020-09-23T04:03:48.600433Z",
     "iopub.status.busy": "2020-09-23T04:03:48.599753Z",
     "iopub.status.idle": "2020-09-23T04:03:48.602724Z",
     "shell.execute_reply": "2020-09-23T04:03:48.602137Z"
    },
    "id": "tW04KX032Ol9"
   },
   "outputs": [
    {
     "data": {
      "text/plain": [
       "[]"
      ]
     },
     "execution_count": 16,
     "metadata": {},
     "output_type": "execute_result"
    }
   ],
   "source": [
    "layer = layers.Dense(3, activation=\"sigmoid\") # (None,None)(None,3)+(3,)\n",
    "layer.weights  # Empty"
   ]
  },
  {
   "cell_type": "markdown",
   "metadata": {
    "id": "NU0Ai9lbGUKA"
   },
   "source": [
    "가중치는 모양이 입력의 형상에 따라 달라지기 때문에 입력에서 처음 호출될 때 가중치를 만듭니다."
   ]
  },
  {
   "cell_type": "code",
   "execution_count": 19,
   "metadata": {
    "execution": {
     "iopub.execute_input": "2020-09-23T04:03:48.607253Z",
     "iopub.status.busy": "2020-09-23T04:03:48.606637Z",
     "iopub.status.idle": "2020-09-23T04:03:48.613627Z",
     "shell.execute_reply": "2020-09-23T04:03:48.613049Z"
    },
    "id": "OqSj1TLCU1vH"
   },
   "outputs": [
    {
     "name": "stdout",
     "output_type": "stream",
     "text": [
      "tf.Tensor([[1. 1. 1. 1.]], shape=(1, 4), dtype=float32)\n"
     ]
    },
    {
     "data": {
      "text/plain": [
       "[<tf.Variable 'dense_12/kernel:0' shape=(4, 3) dtype=float32, numpy=\n",
       " array([[ 0.6993152 , -0.52920866,  0.39725947],\n",
       "        [-0.48262325, -0.06395864,  0.8785807 ],\n",
       "        [-0.666992  ,  0.12566209, -0.65765107],\n",
       "        [ 0.23606896,  0.48331237,  0.6424229 ]], dtype=float32)>,\n",
       " <tf.Variable 'dense_12/bias:0' shape=(3,) dtype=float32, numpy=array([0., 0., 0.], dtype=float32)>]"
      ]
     },
     "execution_count": 19,
     "metadata": {},
     "output_type": "execute_result"
    }
   ],
   "source": [
    "# Call layer on a test input\n",
    "x = tf.ones((1, 4))\n",
    "print(x)\n",
    "y = layer(x)   # (1,4)(4,3)+(3,)\n",
    "layer.weights  # Now it has weights, of shape (4, 3) and (3,)"
   ]
  },
  {
   "cell_type": "code",
   "execution_count": 20,
   "metadata": {},
   "outputs": [
    {
     "name": "stdout",
     "output_type": "stream",
     "text": [
      "tf.Tensor([[0.4466154  0.50393665 0.7791118 ]], shape=(1, 3), dtype=float32)\n"
     ]
    }
   ],
   "source": [
    "print(y)"
   ]
  },
  {
   "cell_type": "markdown",
   "metadata": {
    "id": "CDF0sLoVrGdU"
   },
   "source": [
    "당연히 이것은 Sequential 모델에도 적용됩니다. 입력 형상이 없는 Sequential 모델을 인스턴스화할 때는 \"빌드\"되지 않습니다. 가중치가 없습니다(그리고 `model.weights`를 호출하면 오류가 발생함). 모델에 처음 입력 데이터가 표시되면 가중치가 생성됩니다."
   ]
  },
  {
   "cell_type": "code",
   "execution_count": 23,
   "metadata": {
    "execution": {
     "iopub.execute_input": "2020-09-23T04:03:48.621884Z",
     "iopub.status.busy": "2020-09-23T04:03:48.621259Z",
     "iopub.status.idle": "2020-09-23T04:03:48.645022Z",
     "shell.execute_reply": "2020-09-23T04:03:48.644432Z"
    },
    "id": "ovoPw8Ncbevb"
   },
   "outputs": [
    {
     "name": "stdout",
     "output_type": "stream",
     "text": [
      "Number of weights after calling the model: 6\n",
      "[<tf.Variable 'dense_19/kernel:0' shape=(4, 2) dtype=float32, numpy=\n",
      "array([[-0.95969033,  0.07297444],\n",
      "       [-0.9425423 , -0.12102175],\n",
      "       [-0.8939574 ,  0.27549434],\n",
      "       [-0.73153305, -0.9160409 ]], dtype=float32)>, <tf.Variable 'dense_19/bias:0' shape=(2,) dtype=float32, numpy=array([0., 0.], dtype=float32)>, <tf.Variable 'dense_20/kernel:0' shape=(2, 3) dtype=float32, numpy=\n",
      "array([[-0.1388393 ,  0.24829853, -1.0543964 ],\n",
      "       [ 0.9449041 , -0.36035627, -0.6705326 ]], dtype=float32)>, <tf.Variable 'dense_20/bias:0' shape=(3,) dtype=float32, numpy=array([0., 0., 0.], dtype=float32)>, <tf.Variable 'dense_21/kernel:0' shape=(3, 4) dtype=float32, numpy=\n",
      "array([[ 0.77778566, -0.3198616 , -0.7883109 , -0.4831347 ],\n",
      "       [ 0.8845767 , -0.8880298 ,  0.16448891,  0.886657  ],\n",
      "       [-0.08271652, -0.06831014, -0.6935117 , -0.21384764]],\n",
      "      dtype=float32)>, <tf.Variable 'dense_21/bias:0' shape=(4,) dtype=float32, numpy=array([0., 0., 0., 0.], dtype=float32)>]\n"
     ]
    }
   ],
   "source": [
    "model = keras.Sequential(\n",
    "    [\n",
    "        layers.Dense(2, activation=\"relu\"),  # (1,4)(4,2)+(2,)\n",
    "        layers.Dense(3, activation=\"relu\"),  # (1,2)(2,3)+(3,)\n",
    "        layers.Dense(4),                     # (1,3)(3,4)+(4,)\n",
    "                                             # (1,4)\n",
    "    ]\n",
    ")  # No weights at this stage!\n",
    "\n",
    "# At this point, you can't do this:\n",
    "# model.weights\n",
    "\n",
    "# You also can't do this:\n",
    "# model.summary()\n",
    "\n",
    "# Call the model on a test input\n",
    "x = tf.ones((1, 4))\n",
    "y = model(x)\n",
    "print(\"Number of weights after calling the model:\", len(model.weights))  # 6\n",
    "print(model.weights)"
   ]
  },
  {
   "cell_type": "markdown",
   "metadata": {
    "id": "laWJparrJg70"
   },
   "source": [
    "모델이 \"빌드\"되면, 그 내용을 표시하기 위해 `summary()` 메서드를 호출할 수 있습니다."
   ]
  },
  {
   "cell_type": "code",
   "execution_count": 24,
   "metadata": {
    "execution": {
     "iopub.execute_input": "2020-09-23T04:03:48.649365Z",
     "iopub.status.busy": "2020-09-23T04:03:48.648547Z",
     "iopub.status.idle": "2020-09-23T04:03:48.651650Z",
     "shell.execute_reply": "2020-09-23T04:03:48.652098Z"
    },
    "id": "mY2X9QbgabHu"
   },
   "outputs": [
    {
     "name": "stdout",
     "output_type": "stream",
     "text": [
      "Model: \"sequential_10\"\n",
      "_________________________________________________________________\n",
      " Layer (type)                Output Shape              Param #   \n",
      "=================================================================\n",
      " dense_19 (Dense)            (1, 2)                    10        \n",
      "                                                                 \n",
      " dense_20 (Dense)            (1, 3)                    9         \n",
      "                                                                 \n",
      " dense_21 (Dense)            (1, 4)                    16        \n",
      "                                                                 \n",
      "=================================================================\n",
      "Total params: 35\n",
      "Trainable params: 35\n",
      "Non-trainable params: 0\n",
      "_________________________________________________________________\n"
     ]
    }
   ],
   "source": [
    "model.summary()"
   ]
  },
  {
   "cell_type": "markdown",
   "metadata": {
    "id": "1ZDoaIHvwSmw"
   },
   "source": [
    "그러나 현재 출력 형상을 포함하여 지금까지 모델의 요약을 표시할 수 있도록 Sequential 모델을 점진적으로 빌드할 때 매우 유용할 수 있습니다. 이 경우 `Input` 객체를 모델에 전달하여 모델의 시작 형상을 알 수 있도록 모델을 시작해야 합니다."
   ]
  },
  {
   "cell_type": "code",
   "execution_count": 27,
   "metadata": {},
   "outputs": [
    {
     "name": "stdout",
     "output_type": "stream",
     "text": [
      "(None, 4)\n",
      "2\n"
     ]
    }
   ],
   "source": [
    "a = (None, 4)\n",
    "print(a)\n",
    "print(len(a))"
   ]
  },
  {
   "cell_type": "code",
   "execution_count": 26,
   "metadata": {},
   "outputs": [
    {
     "name": "stdout",
     "output_type": "stream",
     "text": [
      "KerasTensor(type_spec=TensorSpec(shape=(None, 4), dtype=tf.float32, name='input_2'), name='input_2', description=\"created by layer 'input_2'\")\n"
     ]
    }
   ],
   "source": [
    "print(keras.Input(shape=(4,)))"
   ]
  },
  {
   "cell_type": "code",
   "execution_count": 25,
   "metadata": {
    "execution": {
     "iopub.execute_input": "2020-09-23T04:03:48.658042Z",
     "iopub.status.busy": "2020-09-23T04:03:48.657423Z",
     "iopub.status.idle": "2020-09-23T04:03:48.671130Z",
     "shell.execute_reply": "2020-09-23T04:03:48.670522Z"
    },
    "id": "Wv9HeHEeCKAG"
   },
   "outputs": [
    {
     "name": "stdout",
     "output_type": "stream",
     "text": [
      "Model: \"sequential_11\"\n",
      "_________________________________________________________________\n",
      " Layer (type)                Output Shape              Param #   \n",
      "=================================================================\n",
      " dense_22 (Dense)            (None, 2)                 10        \n",
      "                                                                 \n",
      "=================================================================\n",
      "Total params: 10\n",
      "Trainable params: 10\n",
      "Non-trainable params: 0\n",
      "_________________________________________________________________\n"
     ]
    },
    {
     "data": {
      "text/plain": [
       "[<tf.Variable 'dense_22/kernel:0' shape=(4, 2) dtype=float32, numpy=\n",
       " array([[-0.4999807 ,  0.40011144],\n",
       "        [ 0.7251868 , -0.9697583 ],\n",
       "        [-0.2247572 , -0.51448774],\n",
       "        [ 0.9690201 , -0.80268383]], dtype=float32)>,\n",
       " <tf.Variable 'dense_22/bias:0' shape=(2,) dtype=float32, numpy=array([0., 0.], dtype=float32)>]"
      ]
     },
     "execution_count": 25,
     "metadata": {},
     "output_type": "execute_result"
    }
   ],
   "source": [
    "model = keras.Sequential()\n",
    "model.add(keras.Input(shape=(4,)))             # (None,4)\n",
    "model.add(layers.Dense(2, activation=\"relu\"))  # (None,4)(4,2)+(2,)\n",
    "                                               # (None,2)\n",
    "\n",
    "model.summary()\n",
    "model.weights"
   ]
  },
  {
   "cell_type": "markdown",
   "metadata": {
    "id": "4rhwhV0mpu6m"
   },
   "source": [
    "`Input` 객체는 레이어가 아니므로 `model.layers`의 일부로 표시되지 않습니다."
   ]
  },
  {
   "cell_type": "code",
   "execution_count": 28,
   "metadata": {
    "execution": {
     "iopub.execute_input": "2020-09-23T04:03:48.675382Z",
     "iopub.status.busy": "2020-09-23T04:03:48.674759Z",
     "iopub.status.idle": "2020-09-23T04:03:48.677974Z",
     "shell.execute_reply": "2020-09-23T04:03:48.677408Z"
    },
    "id": "oCwEwMoy1B0A"
   },
   "outputs": [
    {
     "data": {
      "text/plain": [
       "[<keras.layers.core.dense.Dense at 0x23982003a00>]"
      ]
     },
     "execution_count": 28,
     "metadata": {},
     "output_type": "execute_result"
    }
   ],
   "source": [
    "model.layers"
   ]
  },
  {
   "cell_type": "markdown",
   "metadata": {
    "id": "xcKk9VmVY9of"
   },
   "source": [
    "간단한 대안은 첫 번째 레이어에 `input_shape` 인수를 전달하는 것입니다."
   ]
  },
  {
   "cell_type": "code",
   "execution_count": 29,
   "metadata": {
    "execution": {
     "iopub.execute_input": "2020-09-23T04:03:48.684182Z",
     "iopub.status.busy": "2020-09-23T04:03:48.683418Z",
     "iopub.status.idle": "2020-09-23T04:03:48.697717Z",
     "shell.execute_reply": "2020-09-23T04:03:48.697218Z"
    },
    "id": "FMe4x1CMP75N"
   },
   "outputs": [
    {
     "name": "stdout",
     "output_type": "stream",
     "text": [
      "Model: \"sequential_12\"\n",
      "_________________________________________________________________\n",
      " Layer (type)                Output Shape              Param #   \n",
      "=================================================================\n",
      " dense_23 (Dense)            (None, 2)                 10        \n",
      "                                                                 \n",
      "=================================================================\n",
      "Total params: 10\n",
      "Trainable params: 10\n",
      "Non-trainable params: 0\n",
      "_________________________________________________________________\n"
     ]
    }
   ],
   "source": [
    "model = keras.Sequential()\n",
    "model.add(layers.Dense(2, activation=\"relu\", input_shape=(4,)))  # (None,4)(4,2)+(2,)\n",
    "\n",
    "model.summary()"
   ]
  },
  {
   "cell_type": "markdown",
   "metadata": {
    "id": "E8lMCSByqIqP"
   },
   "source": [
    "이처럼 사전 정의된 입력 모양으로 빌드된 모델은 항상 가중치를 가지며(데이터를 보기 전에도) 항상 정의된 출력 형상을 갖습니다.\n",
    "\n",
    "일반적으로 Sequential 모델의 입력 형상을 알고 있는 경우 항상 Sequential 모델의 입력 형상을 지정하는 것이 좋습니다."
   ]
  },
  {
   "cell_type": "markdown",
   "metadata": {
    "id": "W5tJgMQ6phEp"
   },
   "source": [
    "## 일반적인 디버깅 워크플로우: `add()` + `summary()`\n",
    "\n",
    "새로운 Sequential 아키텍처를 구축할 때는 `add()` 하여 레이어를 점진적으로 쌓고 모델 요약을 자주 인쇄하는 것이 유용합니다. 예를 들어 `Conv2D` 및 `MaxPooling2D` 레이어의 스택이 이미지 특성 맵을 다운 샘플링 하는 방법을 모니터링할 수 있습니다."
   ]
  },
  {
   "cell_type": "code",
   "execution_count": 30,
   "metadata": {},
   "outputs": [
    {
     "data": {
      "text/plain": [
       "<KerasTensor: shape=(None, 250, 250, 3) dtype=float32 (created by layer 'input_3')>"
      ]
     },
     "execution_count": 30,
     "metadata": {},
     "output_type": "execute_result"
    }
   ],
   "source": [
    "keras.Input(shape=(250, 250, 3))"
   ]
  },
  {
   "cell_type": "code",
   "execution_count": 33,
   "metadata": {
    "execution": {
     "iopub.execute_input": "2020-09-23T04:03:48.707095Z",
     "iopub.status.busy": "2020-09-23T04:03:48.706365Z",
     "iopub.status.idle": "2020-09-23T04:03:48.786250Z",
     "shell.execute_reply": "2020-09-23T04:03:48.786690Z"
    },
    "id": "lz8Lo0OOweir"
   },
   "outputs": [
    {
     "name": "stdout",
     "output_type": "stream",
     "text": [
      "Model: \"sequential_15\"\n",
      "_________________________________________________________________\n",
      " Layer (type)                Output Shape              Param #   \n",
      "=================================================================\n",
      " conv2d_12 (Conv2D)          (None, 123, 123, 32)      2432      \n",
      "                                                                 \n",
      " conv2d_13 (Conv2D)          (None, 121, 121, 32)      9248      \n",
      "                                                                 \n",
      " max_pooling2d_6 (MaxPooling  (None, 40, 40, 32)       0         \n",
      " 2D)                                                             \n",
      "                                                                 \n",
      "=================================================================\n",
      "Total params: 11,680\n",
      "Trainable params: 11,680\n",
      "Non-trainable params: 0\n",
      "_________________________________________________________________\n",
      "Model: \"sequential_15\"\n",
      "_________________________________________________________________\n",
      " Layer (type)                Output Shape              Param #   \n",
      "=================================================================\n",
      " conv2d_12 (Conv2D)          (None, 123, 123, 32)      2432      \n",
      "                                                                 \n",
      " conv2d_13 (Conv2D)          (None, 121, 121, 32)      9248      \n",
      "                                                                 \n",
      " max_pooling2d_6 (MaxPooling  (None, 40, 40, 32)       0         \n",
      " 2D)                                                             \n",
      "                                                                 \n",
      " conv2d_14 (Conv2D)          (None, 38, 38, 32)        9248      \n",
      "                                                                 \n",
      " conv2d_15 (Conv2D)          (None, 36, 36, 32)        9248      \n",
      "                                                                 \n",
      " max_pooling2d_7 (MaxPooling  (None, 12, 12, 32)       0         \n",
      " 2D)                                                             \n",
      "                                                                 \n",
      " conv2d_16 (Conv2D)          (None, 10, 10, 32)        9248      \n",
      "                                                                 \n",
      " conv2d_17 (Conv2D)          (None, 8, 8, 32)          9248      \n",
      "                                                                 \n",
      " max_pooling2d_8 (MaxPooling  (None, 4, 4, 32)         0         \n",
      " 2D)                                                             \n",
      "                                                                 \n",
      "=================================================================\n",
      "Total params: 48,672\n",
      "Trainable params: 48,672\n",
      "Non-trainable params: 0\n",
      "_________________________________________________________________\n",
      "Model: \"sequential_15\"\n",
      "_________________________________________________________________\n",
      " Layer (type)                Output Shape              Param #   \n",
      "=================================================================\n",
      " conv2d_12 (Conv2D)          (None, 123, 123, 32)      2432      \n",
      "                                                                 \n",
      " conv2d_13 (Conv2D)          (None, 121, 121, 32)      9248      \n",
      "                                                                 \n",
      " max_pooling2d_6 (MaxPooling  (None, 40, 40, 32)       0         \n",
      " 2D)                                                             \n",
      "                                                                 \n",
      " conv2d_14 (Conv2D)          (None, 38, 38, 32)        9248      \n",
      "                                                                 \n",
      " conv2d_15 (Conv2D)          (None, 36, 36, 32)        9248      \n",
      "                                                                 \n",
      " max_pooling2d_7 (MaxPooling  (None, 12, 12, 32)       0         \n",
      " 2D)                                                             \n",
      "                                                                 \n",
      " conv2d_16 (Conv2D)          (None, 10, 10, 32)        9248      \n",
      "                                                                 \n",
      " conv2d_17 (Conv2D)          (None, 8, 8, 32)          9248      \n",
      "                                                                 \n",
      " max_pooling2d_8 (MaxPooling  (None, 4, 4, 32)         0         \n",
      " 2D)                                                             \n",
      "                                                                 \n",
      " global_max_pooling2d_2 (Glo  (None, 32)               0         \n",
      " balMaxPooling2D)                                                \n",
      "                                                                 \n",
      " dense_26 (Dense)            (None, 10)                330       \n",
      "                                                                 \n",
      "=================================================================\n",
      "Total params: 49,002\n",
      "Trainable params: 49,002\n",
      "Non-trainable params: 0\n",
      "_________________________________________________________________\n"
     ]
    }
   ],
   "source": [
    "model = keras.Sequential()\n",
    "model.add(keras.Input(shape=(250, 250, 3)))  # 250x250 RGB images  (250-5)//2 + 1\n",
    "model.add(layers.Conv2D(32, 5, strides=2, activation=\"relu\"))  #  (None,250,250,3)(5,5,3,32)+(32,)\n",
    "model.add(layers.Conv2D(32, 3, activation=\"relu\"))             #  (None,123,123,32)(3,3,32,32)+(32,)\n",
    "model.add(layers.MaxPooling2D(3))                              #  (None,121,121,32)\n",
    "                                                               #  (None,40,40,32)\n",
    "\n",
    "# Can you guess what the current output shape is at this point? Probably not.\n",
    "# Let's just print it:\n",
    "model.summary()\n",
    "\n",
    "# The answer was: (40, 40, 32), so we can keep downsampling...\n",
    "\n",
    "model.add(layers.Conv2D(32, 3, activation=\"relu\"))  #  (None,40,40,32)(3,3,32,32)+(32,)\n",
    "model.add(layers.Conv2D(32, 3, activation=\"relu\"))  #  (None,38,38,32)(3,3,32,32)+(32,)\n",
    "model.add(layers.MaxPooling2D(3))                   #  (None,36,36,32)\n",
    "model.add(layers.Conv2D(32, 3, activation=\"relu\"))  #  (None,12,12,32)(3,3,32,32)+(32,)\n",
    "model.add(layers.Conv2D(32, 3, activation=\"relu\"))  #  (None,10,10,32)(3,3,32,32)+(32,)\n",
    "model.add(layers.MaxPooling2D(2))                   #  (None,8,8,32)\n",
    "                                                    #  (None,4,4,32)\n",
    "\n",
    "# And now?\n",
    "model.summary()\n",
    "\n",
    "# # Now that we have 4x4 feature maps, time to apply global max pooling.\n",
    "model.add(layers.GlobalMaxPooling2D())              #  (None,4,4,32)\n",
    "\n",
    "# # Finally, we add a classification layer.\n",
    "model.add(layers.Dense(10))                         #  (None,32)(32,10)+(10,)\n",
    "                                                    #  (None,10)\n",
    "model.summary()    "
   ]
  },
  {
   "cell_type": "markdown",
   "metadata": {
    "id": "CNbDnMrNPCWu"
   },
   "source": [
    "매우 실용적이죠?\n"
   ]
  },
  {
   "cell_type": "markdown",
   "metadata": {
    "id": "doMLAEStLF8l"
   },
   "source": [
    "## 모델이 완성되면 해야 할 일\n",
    "\n",
    "모델 아키텍처가 준비되면 다음을 수행할 수 있습니다.\n",
    "\n",
    "- 모델을 훈련시키고 평가하며 추론을 실행합니다. [내장 루프를 사용한 훈련 및 평가 가이드](https://www.tensorflow.org/guide/keras/train_and_evaluate/)를 참조하세요.\n",
    "- 모델을 디스크에 저장하고 복구합니다. [직렬화 및 저장 가이드](https://www.tensorflow.org/guide/keras/save_and_serialize/)를 참조하세요.\n",
    "- 다중 GPU를 활용하여 모델의 훈련 속도를 향상합니다. [다중 GPU 및 분산 훈련 가이드](distributed_training)를 참조하세요."
   ]
  },
  {
   "cell_type": "markdown",
   "metadata": {
    "id": "tQ1VzU9LjW6O"
   },
   "source": [
    "## Sequential 모델을 사용한 특성 추출\n",
    "\n",
    "Sequential 모델이 빌드되면 [Functional API 모델](https://www.tensorflow.org/guide/keras/functional/)처럼 동작합니다. 이는 모든 레이어가 `input` 및 `output` 속성을 갖는다는 것을 의미합니다. 이러한 속성을 사용하면 Sequential 모델 내의 모든 중간 레이어들의 출력을 추출하는 모델을 빠르게 생성하는 등 깔끔한 작업을 수행할 수 있습니다."
   ]
  },
  {
   "cell_type": "code",
   "execution_count": 34,
   "metadata": {
    "execution": {
     "iopub.execute_input": "2020-09-23T04:03:48.803713Z",
     "iopub.status.busy": "2020-09-23T04:03:48.802956Z",
     "iopub.status.idle": "2020-09-23T04:03:50.138757Z",
     "shell.execute_reply": "2020-09-23T04:03:50.138129Z"
    },
    "id": "DCnNkNL4EEWT"
   },
   "outputs": [
    {
     "name": "stdout",
     "output_type": "stream",
     "text": [
      "[<tf.Tensor: shape=(1, 123, 123, 32), dtype=float32, numpy=\n",
      "array([[[[0.        , 0.54926306, 0.        , ..., 0.        ,\n",
      "          0.15236846, 0.08554606],\n",
      "         [0.        , 0.54926306, 0.        , ..., 0.        ,\n",
      "          0.15236846, 0.08554606],\n",
      "         [0.        , 0.54926306, 0.        , ..., 0.        ,\n",
      "          0.15236846, 0.08554606],\n",
      "         ...,\n",
      "         [0.        , 0.54926306, 0.        , ..., 0.        ,\n",
      "          0.15236846, 0.08554606],\n",
      "         [0.        , 0.54926306, 0.        , ..., 0.        ,\n",
      "          0.15236846, 0.08554606],\n",
      "         [0.        , 0.54926306, 0.        , ..., 0.        ,\n",
      "          0.15236846, 0.08554606]],\n",
      "\n",
      "        [[0.        , 0.54926306, 0.        , ..., 0.        ,\n",
      "          0.15236846, 0.08554606],\n",
      "         [0.        , 0.54926306, 0.        , ..., 0.        ,\n",
      "          0.15236846, 0.08554606],\n",
      "         [0.        , 0.54926306, 0.        , ..., 0.        ,\n",
      "          0.15236846, 0.08554606],\n",
      "         ...,\n",
      "         [0.        , 0.54926306, 0.        , ..., 0.        ,\n",
      "          0.15236846, 0.08554606],\n",
      "         [0.        , 0.54926306, 0.        , ..., 0.        ,\n",
      "          0.15236846, 0.08554606],\n",
      "         [0.        , 0.54926306, 0.        , ..., 0.        ,\n",
      "          0.15236846, 0.08554606]],\n",
      "\n",
      "        [[0.        , 0.54926306, 0.        , ..., 0.        ,\n",
      "          0.15236846, 0.08554606],\n",
      "         [0.        , 0.54926306, 0.        , ..., 0.        ,\n",
      "          0.15236846, 0.08554606],\n",
      "         [0.        , 0.54926306, 0.        , ..., 0.        ,\n",
      "          0.15236846, 0.08554606],\n",
      "         ...,\n",
      "         [0.        , 0.54926306, 0.        , ..., 0.        ,\n",
      "          0.15236846, 0.08554606],\n",
      "         [0.        , 0.54926306, 0.        , ..., 0.        ,\n",
      "          0.15236846, 0.08554606],\n",
      "         [0.        , 0.54926306, 0.        , ..., 0.        ,\n",
      "          0.15236846, 0.08554606]],\n",
      "\n",
      "        ...,\n",
      "\n",
      "        [[0.        , 0.54926306, 0.        , ..., 0.        ,\n",
      "          0.15236846, 0.08554606],\n",
      "         [0.        , 0.54926306, 0.        , ..., 0.        ,\n",
      "          0.15236846, 0.08554606],\n",
      "         [0.        , 0.54926306, 0.        , ..., 0.        ,\n",
      "          0.15236846, 0.08554606],\n",
      "         ...,\n",
      "         [0.        , 0.54926306, 0.        , ..., 0.        ,\n",
      "          0.15236846, 0.08554606],\n",
      "         [0.        , 0.54926306, 0.        , ..., 0.        ,\n",
      "          0.15236846, 0.08554606],\n",
      "         [0.        , 0.54926306, 0.        , ..., 0.        ,\n",
      "          0.15236846, 0.08554606]],\n",
      "\n",
      "        [[0.        , 0.54926306, 0.        , ..., 0.        ,\n",
      "          0.15236846, 0.08554606],\n",
      "         [0.        , 0.54926306, 0.        , ..., 0.        ,\n",
      "          0.15236846, 0.08554606],\n",
      "         [0.        , 0.54926306, 0.        , ..., 0.        ,\n",
      "          0.15236846, 0.08554606],\n",
      "         ...,\n",
      "         [0.        , 0.54926306, 0.        , ..., 0.        ,\n",
      "          0.15236846, 0.08554606],\n",
      "         [0.        , 0.54926306, 0.        , ..., 0.        ,\n",
      "          0.15236846, 0.08554606],\n",
      "         [0.        , 0.54926306, 0.        , ..., 0.        ,\n",
      "          0.15236846, 0.08554606]],\n",
      "\n",
      "        [[0.        , 0.54926306, 0.        , ..., 0.        ,\n",
      "          0.15236846, 0.08554606],\n",
      "         [0.        , 0.54926306, 0.        , ..., 0.        ,\n",
      "          0.15236846, 0.08554606],\n",
      "         [0.        , 0.54926306, 0.        , ..., 0.        ,\n",
      "          0.15236846, 0.08554606],\n",
      "         ...,\n",
      "         [0.        , 0.54926306, 0.        , ..., 0.        ,\n",
      "          0.15236846, 0.08554606],\n",
      "         [0.        , 0.54926306, 0.        , ..., 0.        ,\n",
      "          0.15236846, 0.08554606],\n",
      "         [0.        , 0.54926306, 0.        , ..., 0.        ,\n",
      "          0.15236846, 0.08554606]]]], dtype=float32)>, <tf.Tensor: shape=(1, 121, 121, 32), dtype=float32, numpy=\n",
      "array([[[[0.        , 0.08066359, 0.41623202, ..., 0.        ,\n",
      "          0.26824576, 0.14606537],\n",
      "         [0.        , 0.08066359, 0.41623202, ..., 0.        ,\n",
      "          0.26824576, 0.14606537],\n",
      "         [0.        , 0.08066359, 0.41623202, ..., 0.        ,\n",
      "          0.26824576, 0.14606537],\n",
      "         ...,\n",
      "         [0.        , 0.08066359, 0.41623202, ..., 0.        ,\n",
      "          0.26824576, 0.14606537],\n",
      "         [0.        , 0.08066359, 0.41623202, ..., 0.        ,\n",
      "          0.26824576, 0.14606537],\n",
      "         [0.        , 0.08066359, 0.41623202, ..., 0.        ,\n",
      "          0.26824576, 0.14606537]],\n",
      "\n",
      "        [[0.        , 0.08066359, 0.41623202, ..., 0.        ,\n",
      "          0.26824576, 0.14606537],\n",
      "         [0.        , 0.08066359, 0.41623202, ..., 0.        ,\n",
      "          0.26824576, 0.14606537],\n",
      "         [0.        , 0.08066359, 0.41623202, ..., 0.        ,\n",
      "          0.26824576, 0.14606537],\n",
      "         ...,\n",
      "         [0.        , 0.08066359, 0.41623202, ..., 0.        ,\n",
      "          0.26824576, 0.14606537],\n",
      "         [0.        , 0.08066359, 0.41623202, ..., 0.        ,\n",
      "          0.26824576, 0.14606537],\n",
      "         [0.        , 0.08066359, 0.41623202, ..., 0.        ,\n",
      "          0.26824576, 0.14606537]],\n",
      "\n",
      "        [[0.        , 0.08066359, 0.41623202, ..., 0.        ,\n",
      "          0.26824576, 0.14606537],\n",
      "         [0.        , 0.08066359, 0.41623202, ..., 0.        ,\n",
      "          0.26824576, 0.14606537],\n",
      "         [0.        , 0.08066359, 0.41623202, ..., 0.        ,\n",
      "          0.26824576, 0.14606537],\n",
      "         ...,\n",
      "         [0.        , 0.08066359, 0.41623202, ..., 0.        ,\n",
      "          0.26824576, 0.14606537],\n",
      "         [0.        , 0.08066359, 0.41623202, ..., 0.        ,\n",
      "          0.26824576, 0.14606537],\n",
      "         [0.        , 0.08066359, 0.41623202, ..., 0.        ,\n",
      "          0.26824576, 0.14606537]],\n",
      "\n",
      "        ...,\n",
      "\n",
      "        [[0.        , 0.08066359, 0.41623202, ..., 0.        ,\n",
      "          0.26824576, 0.14606537],\n",
      "         [0.        , 0.08066359, 0.41623202, ..., 0.        ,\n",
      "          0.26824576, 0.14606537],\n",
      "         [0.        , 0.08066359, 0.41623202, ..., 0.        ,\n",
      "          0.26824576, 0.14606537],\n",
      "         ...,\n",
      "         [0.        , 0.08066359, 0.41623202, ..., 0.        ,\n",
      "          0.26824576, 0.14606537],\n",
      "         [0.        , 0.08066359, 0.41623202, ..., 0.        ,\n",
      "          0.26824576, 0.14606537],\n",
      "         [0.        , 0.08066359, 0.41623202, ..., 0.        ,\n",
      "          0.26824576, 0.14606537]],\n",
      "\n",
      "        [[0.        , 0.08066359, 0.41623202, ..., 0.        ,\n",
      "          0.26824576, 0.14606537],\n",
      "         [0.        , 0.08066359, 0.41623202, ..., 0.        ,\n",
      "          0.26824576, 0.14606537],\n",
      "         [0.        , 0.08066359, 0.41623202, ..., 0.        ,\n",
      "          0.26824576, 0.14606537],\n",
      "         ...,\n",
      "         [0.        , 0.08066359, 0.41623202, ..., 0.        ,\n",
      "          0.26824576, 0.14606537],\n",
      "         [0.        , 0.08066359, 0.41623202, ..., 0.        ,\n",
      "          0.26824576, 0.14606537],\n",
      "         [0.        , 0.08066359, 0.41623202, ..., 0.        ,\n",
      "          0.26824576, 0.14606537]],\n",
      "\n",
      "        [[0.        , 0.08066359, 0.41623202, ..., 0.        ,\n",
      "          0.26824576, 0.14606537],\n",
      "         [0.        , 0.08066359, 0.41623202, ..., 0.        ,\n",
      "          0.26824576, 0.14606537],\n",
      "         [0.        , 0.08066359, 0.41623202, ..., 0.        ,\n",
      "          0.26824576, 0.14606537],\n",
      "         ...,\n",
      "         [0.        , 0.08066359, 0.41623202, ..., 0.        ,\n",
      "          0.26824576, 0.14606537],\n",
      "         [0.        , 0.08066359, 0.41623202, ..., 0.        ,\n",
      "          0.26824576, 0.14606537],\n",
      "         [0.        , 0.08066359, 0.41623202, ..., 0.        ,\n",
      "          0.26824576, 0.14606537]]]], dtype=float32)>, <tf.Tensor: shape=(1, 119, 119, 32), dtype=float32, numpy=\n",
      "array([[[[0.04435524, 0.24862604, 0.17155835, ..., 0.10017425,\n",
      "          0.        , 0.17252395],\n",
      "         [0.04435524, 0.24862604, 0.17155835, ..., 0.10017425,\n",
      "          0.        , 0.17252395],\n",
      "         [0.04435524, 0.24862604, 0.17155835, ..., 0.10017425,\n",
      "          0.        , 0.17252395],\n",
      "         ...,\n",
      "         [0.04435524, 0.24862604, 0.17155835, ..., 0.10017425,\n",
      "          0.        , 0.17252395],\n",
      "         [0.04435524, 0.24862604, 0.17155835, ..., 0.10017425,\n",
      "          0.        , 0.17252395],\n",
      "         [0.04435524, 0.24862604, 0.17155835, ..., 0.10017425,\n",
      "          0.        , 0.17252395]],\n",
      "\n",
      "        [[0.04435524, 0.24862604, 0.17155835, ..., 0.10017425,\n",
      "          0.        , 0.17252395],\n",
      "         [0.04435524, 0.24862604, 0.17155835, ..., 0.10017425,\n",
      "          0.        , 0.17252395],\n",
      "         [0.04435524, 0.24862604, 0.17155835, ..., 0.10017425,\n",
      "          0.        , 0.17252395],\n",
      "         ...,\n",
      "         [0.04435524, 0.24862604, 0.17155835, ..., 0.10017425,\n",
      "          0.        , 0.17252395],\n",
      "         [0.04435524, 0.24862604, 0.17155835, ..., 0.10017425,\n",
      "          0.        , 0.17252395],\n",
      "         [0.04435524, 0.24862604, 0.17155835, ..., 0.10017425,\n",
      "          0.        , 0.17252395]],\n",
      "\n",
      "        [[0.04435524, 0.24862604, 0.17155835, ..., 0.10017425,\n",
      "          0.        , 0.17252395],\n",
      "         [0.04435524, 0.24862604, 0.17155835, ..., 0.10017425,\n",
      "          0.        , 0.17252395],\n",
      "         [0.04435524, 0.24862604, 0.17155835, ..., 0.10017425,\n",
      "          0.        , 0.17252395],\n",
      "         ...,\n",
      "         [0.04435524, 0.24862604, 0.17155835, ..., 0.10017425,\n",
      "          0.        , 0.17252395],\n",
      "         [0.04435524, 0.24862604, 0.17155835, ..., 0.10017425,\n",
      "          0.        , 0.17252395],\n",
      "         [0.04435524, 0.24862604, 0.17155835, ..., 0.10017425,\n",
      "          0.        , 0.17252395]],\n",
      "\n",
      "        ...,\n",
      "\n",
      "        [[0.04435524, 0.24862604, 0.17155835, ..., 0.10017425,\n",
      "          0.        , 0.17252395],\n",
      "         [0.04435524, 0.24862604, 0.17155835, ..., 0.10017425,\n",
      "          0.        , 0.17252395],\n",
      "         [0.04435524, 0.24862604, 0.17155835, ..., 0.10017425,\n",
      "          0.        , 0.17252395],\n",
      "         ...,\n",
      "         [0.04435524, 0.24862604, 0.17155835, ..., 0.10017425,\n",
      "          0.        , 0.17252395],\n",
      "         [0.04435524, 0.24862604, 0.17155835, ..., 0.10017425,\n",
      "          0.        , 0.17252395],\n",
      "         [0.04435524, 0.24862604, 0.17155835, ..., 0.10017425,\n",
      "          0.        , 0.17252395]],\n",
      "\n",
      "        [[0.04435524, 0.24862604, 0.17155835, ..., 0.10017425,\n",
      "          0.        , 0.17252395],\n",
      "         [0.04435524, 0.24862604, 0.17155835, ..., 0.10017425,\n",
      "          0.        , 0.17252395],\n",
      "         [0.04435524, 0.24862604, 0.17155835, ..., 0.10017425,\n",
      "          0.        , 0.17252395],\n",
      "         ...,\n",
      "         [0.04435524, 0.24862604, 0.17155835, ..., 0.10017425,\n",
      "          0.        , 0.17252395],\n",
      "         [0.04435524, 0.24862604, 0.17155835, ..., 0.10017425,\n",
      "          0.        , 0.17252395],\n",
      "         [0.04435524, 0.24862604, 0.17155835, ..., 0.10017425,\n",
      "          0.        , 0.17252395]],\n",
      "\n",
      "        [[0.04435524, 0.24862604, 0.17155835, ..., 0.10017425,\n",
      "          0.        , 0.17252395],\n",
      "         [0.04435524, 0.24862604, 0.17155835, ..., 0.10017425,\n",
      "          0.        , 0.17252395],\n",
      "         [0.04435524, 0.24862604, 0.17155835, ..., 0.10017425,\n",
      "          0.        , 0.17252395],\n",
      "         ...,\n",
      "         [0.04435524, 0.24862604, 0.17155835, ..., 0.10017425,\n",
      "          0.        , 0.17252395],\n",
      "         [0.04435524, 0.24862604, 0.17155835, ..., 0.10017425,\n",
      "          0.        , 0.17252395],\n",
      "         [0.04435524, 0.24862604, 0.17155835, ..., 0.10017425,\n",
      "          0.        , 0.17252395]]]], dtype=float32)>]\n"
     ]
    }
   ],
   "source": [
    "initial_model = keras.Sequential(\n",
    "    [\n",
    "        keras.Input(shape=(250, 250, 3)),                    #  (250-5)//2 + 1\n",
    "        layers.Conv2D(32, 5, strides=2, activation=\"relu\"),  # (None,250,250,3)(5,5,3,32)+(32,)\n",
    "        layers.Conv2D(32, 3, activation=\"relu\"),             # (None,123,123,32)(3,3,32,32)+(32,)\n",
    "        layers.Conv2D(32, 3, activation=\"relu\"),             # (None,121,121,32)(3,3,32,32)+(32,)\n",
    "                                                             # (None,119,119,32)\n",
    "    ]\n",
    ")\n",
    "feature_extractor = keras.Model(\n",
    "    inputs=initial_model.inputs,\n",
    "    outputs=[layer.output for layer in initial_model.layers],\n",
    ")\n",
    "\n",
    "# Call feature extractor on test input.\n",
    "x = tf.ones((1, 250, 250, 3))\n",
    "features = feature_extractor(x)\n",
    "print(features)"
   ]
  },
  {
   "cell_type": "markdown",
   "metadata": {
    "id": "oX0vtFJEr8mC"
   },
   "source": [
    "다음은 한 레이어에서 특성만 추출하는 것과 유사한 예입니다."
   ]
  },
  {
   "cell_type": "code",
   "execution_count": null,
   "metadata": {
    "execution": {
     "iopub.execute_input": "2020-09-23T04:03:50.155784Z",
     "iopub.status.busy": "2020-09-23T04:03:50.155011Z",
     "iopub.status.idle": "2020-09-23T04:03:50.188438Z",
     "shell.execute_reply": "2020-09-23T04:03:50.187882Z"
    },
    "id": "4fCuSyOQFkbq"
   },
   "outputs": [],
   "source": [
    "initial_model = keras.Sequential(\n",
    "    [\n",
    "        keras.Input(shape=(250, 250, 3)),\n",
    "        layers.Conv2D(32, 5, strides=2, activation=\"relu\"),\n",
    "        layers.Conv2D(32, 3, activation=\"relu\", name=\"my_intermediate_layer\"),\n",
    "        layers.Conv2D(32, 3, activation=\"relu\"),\n",
    "    ]\n",
    ")\n",
    "feature_extractor = keras.Model(\n",
    "    inputs=initial_model.inputs,\n",
    "    outputs=initial_model.get_layer(name=\"my_intermediate_layer\").output,\n",
    ")\n",
    "# Call feature extractor on test input.\n",
    "x = tf.ones((1, 250, 250, 3))\n",
    "features = feature_extractor(x)  # (None,121,121,32)\n",
    "print(features)"
   ]
  },
  {
   "cell_type": "markdown",
   "metadata": {
    "id": "CdWf9KFXXjM4"
   },
   "source": [
    "## Sequential 모델을 통한 전이 학습\n",
    "\n",
    "전이 학습은 모델에서 맨 아래 레이어를 동결하고 맨 위 레이어만 훈련하는 것으로 구성됩니다. 익숙하지 않은 경우, [전이 학습 가이드](https://www.tensorflow.org/guide/keras/transfer_learning/)를 읽어보세요.\n",
    "\n",
    "다음은 Sequential 모델과 관련된 두 가지 일반적인 전이 학습 청사진입니다.\n",
    "\n",
    "먼저 Sequential 모델이 있고 마지막 모델을 제외한 모든 레이어를 동결하려고 한다고 가정합니다. 이 경우 다음과 같이 단순히 `model.layers`를 반복하고 마지막 레이어를 제외하고 각 레이어에서 `layer.trainable = False`를 설정합니다.\n",
    "\n",
    "```python\n",
    "model = keras.Sequential([<br>    keras.Input(shape=(784))<br>    layers.Dense(32, activation='relu'),<br>    layers.Dense(32, activation='relu'),<br>    layers.Dense(32, activation='relu'),<br>    layers.Dense(10),<br>])<br> <br># Presumably you would want to first load pre-trained weights.<br>model.load_weights(...)<br> <br># Freeze all layers except the last one.<br>for layer in model.layers[:-1]:<br>  layer.trainable = False<br> <br># Recompile and train (this will only update the weights of the last layer).<br>model.compile(...)<br>model.fit(...)\n",
    "```\n",
    "\n",
    "또 다른 일반적인 청사진은 다음과 같이 Sequential 모델을 사용하여 사전 훈련된 모델과 새로 초기화된 분류 레이어를 쌓는 것입니다.\n",
    "\n",
    "```python\n",
    "# Load a convolutional base with pre-trained weights<br>base_model = keras.applications.Xception(<br>    weights='imagenet',<br>    include_top=False,<br>    pooling='avg')<br> <br># Freeze the base model<br>base_model.trainable = False<br> <br># Use a Sequential model to add a trainable classifier on top<br>model = keras.Sequential([<br>    base_model,<br>    layers.Dense(1000),<br>])<br> <br># Compile & train<br>model.compile(...)<br>model.fit(...)\n",
    "```\n",
    "\n",
    "전이 학습을 한다면 아마도 이 두 가지 패턴을 자주 사용하게 될 것입니다."
   ]
  },
  {
   "cell_type": "markdown",
   "metadata": {
    "id": "weB4ei6uNtIg"
   },
   "source": [
    "이것이 Sequential 모델에 대해 알아야 할 전부입니다!\n",
    "\n",
    "Keras에서 모델을 빌드하는 방법에 대한 자세한 내용은 다음을 참조하세요.\n",
    "\n",
    "- [Functional API 가이드](https://www.tensorflow.org/guide/keras/functional/)\n",
    "- [하위 클래스화를 통한 새 레이어 및 모델 생성 가이드](https://www.tensorflow.org/guide/keras/custom_layers_and_models/)"
   ]
  }
 ],
 "metadata": {
  "colab": {
   "collapsed_sections": [],
   "name": "sequential_model.ipynb",
   "toc_visible": true
  },
  "kernelspec": {
   "display_name": "Python 3 (ipykernel)",
   "language": "python",
   "name": "python3"
  },
  "language_info": {
   "codemirror_mode": {
    "name": "ipython",
    "version": 3
   },
   "file_extension": ".py",
   "mimetype": "text/x-python",
   "name": "python",
   "nbconvert_exporter": "python",
   "pygments_lexer": "ipython3",
   "version": "3.9.7"
  }
 },
 "nbformat": 4,
 "nbformat_minor": 1
}
